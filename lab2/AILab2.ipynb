{
  "nbformat": 4,
  "nbformat_minor": 0,
  "metadata": {
    "colab": {
      "provenance": []
    },
    "kernelspec": {
      "name": "python3",
      "display_name": "Python 3"
    },
    "language_info": {
      "name": "python"
    }
  },
  "cells": [
    {
      "cell_type": "code",
      "execution_count": null,
      "metadata": {
        "colab": {
          "base_uri": "https://localhost:8080/"
        },
        "id": "iQEOnGlkkt4n",
        "outputId": "27f7ba33-3ebb-4acb-f612-dce338eacebb"
      },
      "outputs": [
        {
          "output_type": "stream",
          "name": "stdout",
          "text": [
            "['orange', 'apple', 'banana']\n"
          ]
        }
      ],
      "source": [
        "fruits = ['orange', 'apple', 'banana']\n",
        "print (fruits)"
      ]
    },
    {
      "cell_type": "code",
      "source": [
        "#loops\n",
        "print('-'* 20)\n",
        "for fruit in fruits:\n",
        "    print(fruit)\n",
        "    print(\"is a fruit\")     #CAN'T DO RANDOM INDENTATION HAS TO BE JUST 4 SPACES AFTER CONDITIONAL STATEMENT(FOR)"
      ],
      "metadata": {
        "colab": {
          "base_uri": "https://localhost:8080/"
        },
        "id": "uAqHglVSkyZJ",
        "outputId": "2629a7ad-675d-432e-f541-b720d2a0e966"
      },
      "execution_count": null,
      "outputs": [
        {
          "output_type": "stream",
          "name": "stdout",
          "text": [
            "--------------------\n",
            "orange\n",
            "is a fruit\n",
            "apple\n",
            "is a fruit\n",
            "banana\n",
            "is a fruit\n"
          ]
        }
      ]
    },
    {
      "cell_type": "code",
      "source": [
        "#TUPLE\n",
        "data = ('Kaushal', 294, 'Delhi', 'M', 20)\n",
        "for var in data:\n",
        "  print(var)\n",
        "\n",
        "print('-' * 20)\n",
        "#for i in range(5):  #will iterate from 0 to 5-1\n",
        "for i in range(20,25): # 20 to 25-1\n",
        "  #print(i)\n",
        "  print(i,'x', i, '=', i*i)"
      ],
      "metadata": {
        "colab": {
          "base_uri": "https://localhost:8080/"
        },
        "id": "phTTPWh0ldV7",
        "outputId": "f741db9e-3bdc-45fb-a2bc-cea87d53c168"
      },
      "execution_count": null,
      "outputs": [
        {
          "output_type": "stream",
          "name": "stdout",
          "text": [
            "Kaushal\n",
            "294\n",
            "Delhi\n",
            "M\n",
            "20\n",
            "--------------------\n",
            "20 x 20 = 400\n",
            "21 x 21 = 441\n",
            "22 x 22 = 484\n",
            "23 x 23 = 529\n",
            "24 x 24 = 576\n"
          ]
        }
      ]
    },
    {
      "cell_type": "code",
      "source": [
        "print('-' * 20)\n",
        "i = 20\n",
        "while i <= 25:\n",
        "  print(i,'x', i, '=', i*i)\n",
        "  i = i + 1\n",
        "\n"
      ],
      "metadata": {
        "colab": {
          "base_uri": "https://localhost:8080/"
        },
        "id": "Cffyv04inWNU",
        "outputId": "91d6f6a2-ff99-4bcc-ea5f-7321a1a233c8"
      },
      "execution_count": null,
      "outputs": [
        {
          "output_type": "stream",
          "name": "stdout",
          "text": [
            "20 x 20 = 400\n",
            "21 x 21 = 441\n",
            "22 x 22 = 484\n",
            "23 x 23 = 529\n",
            "24 x 24 = 576\n",
            "25 x 25 = 625\n"
          ]
        }
      ]
    },
    {
      "cell_type": "code",
      "source": [
        "print('-' * 20)\n",
        "i = 20\n",
        "while True:\n",
        "  print(i,'x', i, '=', i*i)\n",
        "  i = i + 1\n",
        "  if i == 25:   # using a break statement inorder to break out of infinite loop\n",
        "    break"
      ],
      "metadata": {
        "colab": {
          "base_uri": "https://localhost:8080/"
        },
        "id": "t3I91X5Eo90h",
        "outputId": "df06b20c-ab43-4f21-e199-0b5bab8a1f6e"
      },
      "execution_count": null,
      "outputs": [
        {
          "output_type": "stream",
          "name": "stdout",
          "text": [
            "--------------------\n",
            "20 x 20 = 400\n",
            "21 x 21 = 441\n",
            "22 x 22 = 484\n",
            "23 x 23 = 529\n",
            "24 x 24 = 576\n"
          ]
        }
      ]
    },
    {
      "cell_type": "code",
      "source": [
        "print('-' * 20)\n",
        "def sign(x):\n",
        "  if x > 0:\n",
        "    return 'positive'\n",
        "  elif x < 0:\n",
        "    return 'negative'\n",
        "  else:\n",
        "    return 'exactly zero'\n",
        "\n",
        "print(6 , 'is', sign(6))\n",
        "print(-6 , 'is', sign(-6))\n",
        "print(0 , 'is', sign(0))"
      ],
      "metadata": {
        "colab": {
          "base_uri": "https://localhost:8080/"
        },
        "id": "bsVbXKErrJKb",
        "outputId": "ec6990fe-becd-4fb9-fc36-cd3a0dd6a898"
      },
      "execution_count": null,
      "outputs": [
        {
          "output_type": "stream",
          "name": "stdout",
          "text": [
            "--------------------\n",
            "6 is positive\n",
            "-6 is negative\n",
            "0 is exactly zero\n"
          ]
        }
      ]
    },
    {
      "cell_type": "code",
      "source": [
        "# Write a function to print square table of 2 params\n",
        "def printSquareTable(x,y):\n",
        "  for i in range(x,y):\n",
        "    print(i,'x', i, '=', i*i)\n",
        "\n",
        "printSquareTable(20,25)"
      ],
      "metadata": {
        "colab": {
          "base_uri": "https://localhost:8080/"
        },
        "id": "TdZhxefas-U5",
        "outputId": "e333385b-9659-4d83-874f-7338dcce86fe"
      },
      "execution_count": null,
      "outputs": [
        {
          "output_type": "stream",
          "name": "stdout",
          "text": [
            "20 x 20 = 400\n",
            "21 x 21 = 441\n",
            "22 x 22 = 484\n",
            "23 x 23 = 529\n",
            "24 x 24 = 576\n"
          ]
        }
      ]
    },
    {
      "cell_type": "markdown",
      "source": [
        "# TABLE DRIVEN AGENT"
      ],
      "metadata": {
        "id": "HmW1dK4Nzb5c"
      }
    },
    {
      "cell_type": "code",
      "source": [
        "# VACCUM AGENT vaccum.py\n",
        "print(' ---- VACCUM CLEANER AGENT----')\n",
        "import random\n",
        "\n",
        "World = [0, 0]  # 0 = CLEAN, 1 = DIRTY\n",
        "agentLoc = 0    # 0 = ROOM A,  1 = ROOM B\n",
        "Mantra =['right', 'suck', 'left', 'suck'] # DEFINING ACTIONS THAT THE AGENT WILL WORK UPON\n",
        "# action idx = 0,   1,     2,       3\n",
        "\n",
        "\n",
        "for i in range(10): # print status of room a and b\n",
        "  print('iter #', i+1, end ='')\n",
        "\n",
        "  #STEP-1: MAKING ROOMS DIRTY RANDOMLY WITH 10% PROBABILITY\n",
        "  if random.random() < 0.1:\n",
        "    World[0] = 1    # ROOOM A IS DIRTY\n",
        "  if random.random() < 0.1:\n",
        "    World[1] = 1    # ROOOM B IS DIRTY\n",
        "\n",
        "\n",
        "  # STEP-2: START CHECKING AND UPDATE STATUS OF THE ROOM\n",
        "  if World[0] == 0:  # roomA IS CLEAN\n",
        "    statusA = 'clean'\n",
        "  else:\n",
        "    statusA = 'dirty'\n",
        "  if World[1] == 0:  # roomB IS CLEAN\n",
        "    statusB = 'clean'\n",
        "  else:\n",
        "    statusB = 'dirty'\n",
        "  print(' Room A is', statusA, 'and Room B is', statusB)\n",
        "\n",
        "  # PRINT AGENTS LOCATION\n",
        "  if agentLoc == 0:\n",
        "    location = 'Room A'\n",
        "  else:\n",
        "    location = 'Room B'\n",
        "  print('Vaccum Agent is in', location)\n",
        "\n",
        "\n",
        "  # have to change location of agent depending upon action- right or left and if action is suck then change STATE OF WORLD FROM DIRTY TO CLEAN BY WORLD[0] = 1\n",
        "  # READ WHAT IS THE AGENT LOCAATION WHICH IS STORED\n",
        "  # CHECK WHETHER IT IS CLEAN OR DIRTY IF 0 THEN WORLD 0 IF 1 THEN WORLD 1\n",
        "  # NOW WE KNOW WHERE AGENT IS AND IF THE ROOM IS CLEAN OR DIRTY\n",
        "  # SO CAN MAKE AN ACTION DEPENDING UPON THAT\n",
        "  # IF ACTION = RIGHT AGENTLOC IS 1\n",
        "  # IF ACTION = LEFT AGENTLOC IS 0\n",
        "  # IF ACTION = SUCK THEN WORLD[AGENTLOC] = 0\n",
        "\n",
        "\n",
        "  #TAKE AN ACTION BASED ON MANTRA\n",
        "  if agentLoc == 0 and World[agentLoc] == 0: # Agent is in room A and its clean\n",
        "    actionIndex = 0\n",
        "  elif agentLoc == 0 and World[agentLoc] == 1: # Agent is in room A and its dirty\n",
        "    actionIndex = 1\n",
        "  elif agentLoc == 1 and World[agentLoc] == 0: # Agent is in room B and its clean\n",
        "    actionIndex = 2\n",
        "  elif agentLoc == 1 and World[agentLoc] == 1: # Agent is in room B and its dirty\n",
        "    actionIndex = 3\n",
        "\n",
        "  action = Mantra[actionIndex]\n",
        "  if action == 'left':\n",
        "    print(' Movin to room A')\n",
        "    agentLoc = 0  #update the location of agent again\n",
        "  elif action == 'right':\n",
        "    print(' Movin to room A')\n",
        "    agentLoc = 1\n",
        "  elif action == 'suck':\n",
        "    print(' Cleaning the room ')\n",
        "    World[agentLoc] = 0\n",
        "\n",
        "# ASSIGNMENT - REFACTOR CODE- break the big for loop into 3 functions - print the status and world, select action, perform action\n",
        "\n"
      ],
      "metadata": {
        "colab": {
          "base_uri": "https://localhost:8080/"
        },
        "id": "KVhjYkvFvkFz",
        "outputId": "b9866bec-07b1-41d5-f7cc-774fb0776913"
      },
      "execution_count": null,
      "outputs": [
        {
          "output_type": "stream",
          "name": "stdout",
          "text": [
            " ---- VACCUM CLEANER AGENT----\n",
            "iter # 1 Room A is clean and Room B is dirty\n",
            "Vaccum Agent is in Room A\n",
            "iter # 2 Room A is dirty and Room B is dirty\n",
            "Vaccum Agent is in Room B\n",
            "iter # 3 Room A is dirty and Room B is dirty\n",
            "Vaccum Agent is in Room A\n",
            "iter # 4 Room A is dirty and Room B is dirty\n",
            "Vaccum Agent is in Room B\n",
            "iter # 5 Room A is dirty and Room B is dirty\n",
            "Vaccum Agent is in Room A\n",
            "iter # 6 Room A is dirty and Room B is dirty\n",
            "Vaccum Agent is in Room B\n",
            "iter # 7 Room A is dirty and Room B is dirty\n",
            "Vaccum Agent is in Room A\n",
            "iter # 8 Room A is dirty and Room B is dirty\n",
            "Vaccum Agent is in Room B\n",
            "iter # 9 Room A is dirty and Room B is dirty\n",
            "Vaccum Agent is in Room A\n",
            "iter # 10 Room A is dirty and Room B is dirty\n",
            "Vaccum Agent is in Room B\n"
          ]
        }
      ]
    },
    {
      "cell_type": "code",
      "source": [
        "#ASSIGNMENT- REFACTOR CODE- break the big for loop into 3 functions - print the status and world, select action, perform action\n",
        "\n",
        "import random\n",
        "\n",
        " # Displays the current state of the rooms and the agent's locatio\n",
        "def print_status(iteration, World, agentLoc):\n",
        "    statusA = 'clean' if World[0] == 0 else 'dirty'\n",
        "    statusB = 'clean' if World[1] == 0 else 'dirty'\n",
        "    location = 'Room A' if agentLoc == 0 else 'Room B'\n",
        "\n",
        "    print(f'iter #{iteration}')\n",
        "    print(f' Room A is {statusA} and Room B is {statusB}')\n",
        "    print(f' Vaccum Agent is in {location}')\n",
        "\n",
        "def select_action(agentLoc, World):\n",
        "    Mantra = ['right', 'suck', 'left', 'suck']\n",
        "    if agentLoc == 0 and World[agentLoc] == 0:  # Agent is in room A and it's clean\n",
        "        return Mantra[0] #return 'right'\n",
        "    elif agentLoc == 0 and World[agentLoc] == 1:  # Agent is in room A and it's dirty\n",
        "        return Mantra[1] #return 'suck'\n",
        "    elif agentLoc == 1 and World[agentLoc] == 0:  # Agent is in room B and it's clean\n",
        "        return Mantra[2] #return 'left'\n",
        "    elif agentLoc == 1 and World[agentLoc] == 1:  # Agent is in room B and it's dirty\n",
        "        return Mantra[3] #return 'suck'\n",
        "\n",
        "def perform_action(action, agentLoc, World):\n",
        "    if action == 'left':\n",
        "        print(' Moving to Room A')\n",
        "        agentLoc = 0  #update the location of agent again\n",
        "    elif action == 'right':\n",
        "        print(' Moving to Room B')\n",
        "        agentLoc = 1\n",
        "    elif action == 'suck':\n",
        "        print(' Cleaning the room ')\n",
        "        World[agentLoc] = 0\n",
        "    return agentLoc\n",
        "\n",
        "def vacuum_cleaner_agent():\n",
        "    print(' ---- VACCUM CLEANER AGENT ----')\n",
        "\n",
        "    World = [0, 0]  # 0 = CLEAN, 1 = DIRTY #idx 1 is room a and idx 2 is room b\n",
        "    agentLoc = 0    # 0 = ROOM A, 1 = ROOM B\n",
        "\n",
        "    for i in range(1, 11):\n",
        "        # Step 1: Randomly make the rooms dirty\n",
        "        if random.random() < 0.1: World[0] = 1  # Room A becomes dirty\n",
        "        if random.random() < 0.1: World[1] = 1  # Room B becomes dirty\n",
        "\n",
        "        # Step 2: Print the status and world\n",
        "        print_status(i, World, agentLoc)\n",
        "\n",
        "        # Step 3: Select an action\n",
        "        action = select_action(agentLoc, World)\n",
        "\n",
        "        # Step 4: Perform the action\n",
        "        agentLoc = perform_action(action, agentLoc, World)\n",
        "\n",
        "# Run the vacuum cleaner agent\n",
        "vacuum_cleaner_agent()\n",
        "\n",
        "\n",
        "\n",
        "# ------------------------------------------------------------------------------\n",
        "# # MORE COMPACT CODE\n",
        "# import random\n",
        "\n",
        "# def vacuum_cleaner_agent():\n",
        "#     print(' ---- VACUUM CLEANER AGENT ----')\n",
        "\n",
        "#     World = [0, 0]  # 0 = CLEAN, 1 = DIRTY\n",
        "#     agentLoc = 0    # 0 = ROOM A, 1 = ROOM B\n",
        "#     Mantra = ['right', 'suck', 'left', 'suck']\n",
        "\n",
        "#     for i in range(1, 11):\n",
        "#         # Step 1: Randomly make the rooms dirty\n",
        "#         if random.random() < 0.1: World[0] = 1\n",
        "#         if random.random() < 0.1: World[1] = 1\n",
        "\n",
        "#         # Step 2: Display status and agent location\n",
        "#         statusA = 'clean' if World[0] == 0 else 'dirty'\n",
        "#         statusB = 'clean' if World[1] == 0 else 'dirty'\n",
        "#         location = 'Room A' if agentLoc == 0 else 'Room B'\n",
        "#         print(f'iter #{i}')\n",
        "#         print(f' Room A is {statusA} and Room B is {statusB}')\n",
        "#         print(f' Vacuum Agent is in {location}')\n",
        "\n",
        "#         # Step 3: Select and perform action\n",
        "#         if agentLoc == 0 and World[agentLoc] == 0:\n",
        "#             action = Mantra[0]  # 'right'\n",
        "#         elif agentLoc == 0 and World[agentLoc] == 1:\n",
        "#             action = Mantra[1]  # 'suck'\n",
        "#         elif agentLoc == 1 and World[agentLoc] == 0:\n",
        "#             action = Mantra[2]  # 'left'\n",
        "#         elif agentLoc == 1 and World[agentLoc] == 1:\n",
        "#             action = Mantra[3]  # 'suck'\n",
        "\n",
        "#         if action == 'left':\n",
        "#             print(' Moving to Room A')\n",
        "#             agentLoc = 0  #update the location of agent again\n",
        "#         elif action == 'right':\n",
        "#             print(' Moving to Room B')\n",
        "#             agentLoc = 1\n",
        "#         elif action == 'suck':\n",
        "#             print(' Cleaning the room ')\n",
        "#             World[agentLoc] = 0\n",
        "\n",
        "# # Run the vacuum cleaner agent\n",
        "# vacuum_cleaner_agent()\n"
      ],
      "metadata": {
        "colab": {
          "base_uri": "https://localhost:8080/"
        },
        "id": "ABhZHoqTP2Ik",
        "outputId": "cdfec90f-7ee3-49ab-a722-53ce239efc0b"
      },
      "execution_count": null,
      "outputs": [
        {
          "output_type": "stream",
          "name": "stdout",
          "text": [
            " ---- VACCUM CLEANER AGENT ----\n",
            "iter #1\n",
            " Room A is clean and Room B is clean\n",
            " Vaccum Agent is in Room A\n",
            " Moving to Room B\n",
            "iter #2\n",
            " Room A is clean and Room B is clean\n",
            " Vaccum Agent is in Room B\n",
            " Moving to Room A\n",
            "iter #3\n",
            " Room A is clean and Room B is clean\n",
            " Vaccum Agent is in Room A\n",
            " Moving to Room B\n",
            "iter #4\n",
            " Room A is clean and Room B is clean\n",
            " Vaccum Agent is in Room B\n",
            " Moving to Room A\n",
            "iter #5\n",
            " Room A is clean and Room B is clean\n",
            " Vaccum Agent is in Room A\n",
            " Moving to Room B\n",
            "iter #6\n",
            " Room A is clean and Room B is clean\n",
            " Vaccum Agent is in Room B\n",
            " Moving to Room A\n",
            "iter #7\n",
            " Room A is clean and Room B is clean\n",
            " Vaccum Agent is in Room A\n",
            " Moving to Room B\n",
            "iter #8\n",
            " Room A is clean and Room B is clean\n",
            " Vaccum Agent is in Room B\n",
            " Moving to Room A\n",
            "iter #9\n",
            " Room A is clean and Room B is clean\n",
            " Vaccum Agent is in Room A\n",
            " Moving to Room B\n",
            "iter #10\n",
            " Room A is dirty and Room B is clean\n",
            " Vaccum Agent is in Room B\n",
            " Moving to Room A\n"
          ]
        }
      ]
    },
    {
      "cell_type": "code",
      "source": [
        "import random\n",
        "\n",
        "print('---VACUUM AGENT---')\n",
        "\n",
        "def manageEnvironment():\n",
        "    \"\"\"\n",
        "    Updates the environment by potentially dirtying the rooms and prints the current state.\n",
        "    \"\"\"\n",
        "    # Use local state variables defined in the main function\n",
        "    if random.random() < 0.2:\n",
        "        world[0] = 1  # Room A becomes dirty\n",
        "    if random.random() < 0.2:\n",
        "        world[1] = 1  # Room B becomes dirty\n",
        "\n",
        "    # Print the current environment and agent location\n",
        "    print('Iter', iteration, ':',\n",
        "          'A is', 'clean' if world[0] == 0 else 'dirty.',\n",
        "          'B is', 'clean' if world[1] == 0 else 'dirty.')\n",
        "    print('Agent is in', 'A' if agentLoc == 0 else 'B')\n",
        "\n",
        "def decide(world, agentLoc):\n",
        "    \"\"\"\n",
        "    Decide the action based on the current world state and agent location.\n",
        "    \"\"\"\n",
        "    Mantra = {(0, 0): 'right', (0, 1): 'suck', (1, 0): 'left', (1, 1): 'suck'}\n",
        "    return Mantra[(agentLoc, world[agentLoc])]\n",
        "\n",
        "def performAction(action):\n",
        "    \"\"\"\n",
        "    Perform the action decided by the agent and update the state.\n",
        "    \"\"\"\n",
        "    global agentLoc\n",
        "    if action == 'right':\n",
        "        print('Going to Room B')\n",
        "        agentLoc = 1\n",
        "    elif action == 'left':\n",
        "        print('Going to Room A')\n",
        "        agentLoc = 0\n",
        "    elif action == 'suck':\n",
        "        print('Cleaning the room')\n",
        "        world[agentLoc] = 0\n",
        "\n",
        "def vacuumAgent(iterations=5):\n",
        "    \"\"\"\n",
        "    Run the vacuum agent for a specified number of iterations.\n",
        "    \"\"\"\n",
        "    global world, agentLoc, iteration\n",
        "    world = [0, 0]  # 0 means clean, 1 means dirty\n",
        "    agentLoc = 0    # 0 means Room A, 1 means Room B\n",
        "\n",
        "    print('-' * 20)\n",
        "    for iteration in range(1, iterations + 1):\n",
        "        # Manage and display the current state of the environment\n",
        "        manageEnvironment()\n",
        "\n",
        "        # Decide and perform action\n",
        "        action = decide(world, agentLoc)\n",
        "        performAction(action)\n",
        "\n",
        "# Run the vacuum agent\n",
        "vacuumAgent()\n"
      ],
      "metadata": {
        "colab": {
          "base_uri": "https://localhost:8080/"
        },
        "id": "O1cfCGLi8o1H",
        "outputId": "ba58ea63-749a-4238-d533-8ac7650d81c0"
      },
      "execution_count": null,
      "outputs": [
        {
          "output_type": "stream",
          "name": "stdout",
          "text": [
            "---VACUUM AGENT---\n",
            "--------------------\n",
            "Iter 1 : A is clean B is clean\n",
            "Agent is in A\n",
            "Going to Room B\n",
            "Iter 2 : A is clean B is clean\n",
            "Agent is in B\n",
            "Going to Room A\n",
            "Iter 3 : A is clean B is clean\n",
            "Agent is in A\n",
            "Going to Room B\n",
            "Iter 4 : A is clean B is clean\n",
            "Agent is in B\n",
            "Going to Room A\n",
            "Iter 5 : A is clean B is clean\n",
            "Agent is in A\n",
            "Going to Room B\n"
          ]
        }
      ]
    }
  ]
}