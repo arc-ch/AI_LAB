{
  "nbformat": 4,
  "nbformat_minor": 0,
  "metadata": {
    "colab": {
      "provenance": []
    },
    "kernelspec": {
      "name": "python3",
      "display_name": "Python 3"
    },
    "language_info": {
      "name": "python"
    }
  },
  "cells": [
    {
      "cell_type": "markdown",
      "source": [
        "## Python basics"
      ],
      "metadata": {
        "id": "LCgxE-NQm8uQ"
      }
    },
    {
      "cell_type": "code",
      "execution_count": 17,
      "metadata": {
        "id": "KeElK00yf1Bm",
        "colab": {
          "base_uri": "https://localhost:8080/"
        },
        "outputId": "3dab9c43-5fa9-448f-9eba-b1b54b0fbf50"
      },
      "outputs": [
        {
          "output_type": "stream",
          "name": "stdout",
          "text": [
            "hello cse13\n"
          ]
        }
      ],
      "source": [
        "print(\"hello cse13\")"
      ]
    },
    {
      "cell_type": "code",
      "source": [
        "print(5, 'apple', sep= '--')"
      ],
      "metadata": {
        "colab": {
          "base_uri": "https://localhost:8080/"
        },
        "id": "NUjM6eXllOU-",
        "outputId": "20b004ae-b0d9-472d-f6f6-f6e4e2321baf"
      },
      "execution_count": 19,
      "outputs": [
        {
          "output_type": "stream",
          "name": "stdout",
          "text": [
            "5--apple\n"
          ]
        }
      ]
    },
    {
      "cell_type": "code",
      "source": [
        "fruits = ['orange', 'apple', 'banana']\n",
        "print (fruits)"
      ],
      "metadata": {
        "colab": {
          "base_uri": "https://localhost:8080/"
        },
        "id": "N8ua5deImb62",
        "outputId": "80c3a322-2b6c-4a5d-884f-7892f2796b2d"
      },
      "execution_count": 20,
      "outputs": [
        {
          "output_type": "stream",
          "name": "stdout",
          "text": [
            "['orange', 'apple', 'banana']\n"
          ]
        }
      ]
    },
    {
      "cell_type": "code",
      "source": [
        "fruits = ['orange', 'apple', 'banana']\n",
        "s = '|'.join(fruits)\n",
        "print (s)\n",
        "print(s.split('|'))   # split() is the opposite of join()\n",
        "print('%s costs %f' %('apple', 2.45))  #%s expects a string and %f expects a floating point number\n",
        "print(\"%s costs %f\" %('orange', 1.98)) # %d will treat it as a integer"
      ],
      "metadata": {
        "colab": {
          "base_uri": "https://localhost:8080/"
        },
        "id": "K3Uc74finEF1",
        "outputId": "c0143db2-a0b5-4794-b8d5-4849a99d1e30"
      },
      "execution_count": 22,
      "outputs": [
        {
          "output_type": "stream",
          "name": "stdout",
          "text": [
            "orange|apple|banana\n",
            "['orange', 'apple', 'banana']\n",
            "apple costs 2.450000\n",
            "orange costs 1.980000\n"
          ]
        }
      ]
    },
    {
      "cell_type": "code",
      "source": [
        "a = list(range(5))\n",
        "print(a)\n",
        "\n",
        "# a.append('99')\n",
        "# print(a)\n",
        "\n",
        "a.append(50)\n",
        "print(a)\n",
        "\n",
        "# a.append('hi')\n",
        "# print(a)\n",
        "\n"
      ],
      "metadata": {
        "colab": {
          "base_uri": "https://localhost:8080/"
        },
        "id": "2o4exsPBpHTe",
        "outputId": "563b0f54-f9c3-40b9-f064-bdb2c9c72195"
      },
      "execution_count": 26,
      "outputs": [
        {
          "output_type": "stream",
          "name": "stdout",
          "text": [
            "[0, 1, 2, 3, 4]\n",
            "[0, 1, 2, 3, 4, '99']\n",
            "[0, 1, 2, 3, 4, '99', 50]\n",
            "[0, 1, 2, 3, 4, '99', 50, 'hi']\n"
          ]
        }
      ]
    },
    {
      "cell_type": "code",
      "source": [
        "fruits = ['orange', 'apple', 'banana']\n",
        "print(fruits)\n",
        "\n",
        "item = fruits.pop(0)\n",
        "print(fruits)\n",
        "print(item)\n",
        "\n",
        "fruits1 = ['orange', 'apple', 'banana']\n",
        "item1 = fruits1.pop(1)\n",
        "print(fruits1)\n",
        "print(item1)"
      ],
      "metadata": {
        "colab": {
          "base_uri": "https://localhost:8080/"
        },
        "id": "Nfpi16qkp2hr",
        "outputId": "bd91902f-c031-4be5-ecd3-e60e30c1d788"
      },
      "execution_count": 41,
      "outputs": [
        {
          "output_type": "stream",
          "name": "stdout",
          "text": [
            "['orange', 'apple', 'banana']\n",
            "['apple', 'banana']\n",
            "orange\n",
            "['orange', 'banana']\n",
            "apple\n"
          ]
        }
      ]
    },
    {
      "cell_type": "code",
      "source": [
        "print(item, 'removed, Now remaining: ', fruits)\n",
        "\n",
        "#insert kiwi\n",
        "fruits.insert(1, 'kiwi')\n",
        "print(fruits)"
      ],
      "metadata": {
        "colab": {
          "base_uri": "https://localhost:8080/"
        },
        "id": "EOJZKxOeq0dz",
        "outputId": "86ecb5c5-66e6-4d05-bedd-87c815f76c49"
      },
      "execution_count": 42,
      "outputs": [
        {
          "output_type": "stream",
          "name": "stdout",
          "text": [
            "orange removed, Now remaining:  ['apple', 'banana']\n",
            "['apple', 'kiwi', 'banana']\n"
          ]
        }
      ]
    },
    {
      "cell_type": "code",
      "source": [
        "b = list('hello')\n",
        "print(b)\n",
        "\n",
        "print('-'.join(b))\n",
        "\n",
        "print('abc ' * 3)\n",
        "\n",
        "print('-,- ' * 5)"
      ],
      "metadata": {
        "colab": {
          "base_uri": "https://localhost:8080/"
        },
        "id": "wbligwe2rBMm",
        "outputId": "de754310-3657-445f-8093-73a80a61dcb5"
      },
      "execution_count": 47,
      "outputs": [
        {
          "output_type": "stream",
          "name": "stdout",
          "text": [
            "['h', 'e', 'l', 'l', 'o']\n",
            "h-e-l-l-o\n",
            "abc abc abc \n",
            "-,- -,- -,- -,- -,- \n"
          ]
        }
      ]
    },
    {
      "cell_type": "code",
      "source": [
        "c = list(range(20))\n",
        "print('current list- ',c)\n",
        "\n",
        "print('spliced with 2 steps- ', c[5:17:2]) # this is splicing - will print from 5 to (17-1) with steps of 2\n",
        "print('from 5 to 17-1', c[5:17])   # start to end-1\n",
        "print('reverse traversal with 2 steps- ', c[17:5:-2]) # 17 to 5 with -2 steps\n",
        "print('reversing list- ', c[::-1])  # reverse list"
      ],
      "metadata": {
        "colab": {
          "base_uri": "https://localhost:8080/"
        },
        "id": "2KZj4yGPrnJp",
        "outputId": "a377773c-ac57-4638-9683-e2eb3b2160f8"
      },
      "execution_count": 60,
      "outputs": [
        {
          "output_type": "stream",
          "name": "stdout",
          "text": [
            "current list-  [0, 1, 2, 3, 4, 5, 6, 7, 8, 9, 10, 11, 12, 13, 14, 15, 16, 17, 18, 19]\n",
            "spliced with 2 steps-  [5, 7, 9, 11, 13, 15]\n",
            "from 5 to 17-1 [5, 6, 7, 8, 9, 10, 11, 12, 13, 14, 15, 16]\n",
            "reverse traversal with 2 steps-  [17, 15, 13, 11, 9, 7]\n",
            "reversing list-  [19, 18, 17, 16, 15, 14, 13, 12, 11, 10, 9, 8, 7, 6, 5, 4, 3, 2, 1, 0]\n"
          ]
        }
      ]
    },
    {
      "cell_type": "code",
      "source": [
        "multiplier = lambda a: lambda x: x*a #CONSTRUCTOT\n",
        "by5 = multiplier(5) # OBJECT 1 to multiply with 5\n",
        "by3 = multiplier(3) # OBJECT 2 to multiply with 3\n",
        "print(by5(4))\n",
        "print(by3(4))\n",
        "\n",
        "# class Multiplier{}\n",
        "fruits1 = ['orange', 'apple', 'banana']\n",
        "fruits1.reverse()\n",
        "print(fruits1)"
      ],
      "metadata": {
        "colab": {
          "base_uri": "https://localhost:8080/"
        },
        "id": "6NWTqzktsKB_",
        "outputId": "8ea94afd-3ff5-4e20-dd39-da443566ba59"
      },
      "execution_count": 67,
      "outputs": [
        {
          "output_type": "stream",
          "name": "stdout",
          "text": [
            "20\n",
            "12\n",
            "['banana', 'apple', 'orange']\n"
          ]
        }
      ]
    },
    {
      "cell_type": "markdown",
      "source": [
        "# **Inbuilt Data Structures**"
      ],
      "metadata": {
        "id": "2qtzvJBrwnKE"
      }
    },
    {
      "cell_type": "code",
      "source": [
        "# DICTIONARY DATA STRUCTURE\n",
        "# DICT1 = {key:values}\n",
        "\n",
        "dict1 = {'name': 'Archit', 'roll': 22053579, 'state': 'Odisha', 'gender':'male'}\n",
        "print('-' * 20)\n",
        "print(dict1)\n",
        "# Print value wrt key\n",
        "print(dict1['state'])\n",
        "\n",
        "#mutating the state\n",
        "dict1['state'] = 'WB'\n",
        "print(dict1)\n",
        "\n",
        "#adding another key : value\n",
        "dict1['age'] = 21\n",
        "print(dict1)\n",
        "\n",
        "print('  ')\n",
        "\n",
        "# finding types of all\n",
        "print(type(dict1))\n",
        "print(type(fruits))\n",
        "print(type(5))\n",
        "print(type('apple'))\n",
        "\n",
        "print('  ')\n",
        "print(' Check existence of values ')\n",
        "print('-' * 20)\n",
        "# Check existence of values in dict1 and fruits- will return true or false\n",
        "print('hostel' in dict1)\n",
        "print('state' in dict1)\n",
        "print('kiwi' in fruits)\n",
        "print('guava' in fruits)\n",
        "\n",
        "print('  ')\n",
        "print(' Printing all fruits ')\n",
        "print('-' * 20)\n",
        "#Printing all fruits\n",
        "for fruit in fruits:\n",
        "    print(fruit)\n",
        "\n",
        "print('  ')\n",
        "print(' Printing the dictionary  ')\n",
        "print('-' * 20)\n",
        "for key in dict1:\n",
        "    print(key, \"=\", dict1[key])\n",
        "\n"
      ],
      "metadata": {
        "colab": {
          "base_uri": "https://localhost:8080/"
        },
        "id": "1EEzOe6dwIas",
        "outputId": "a010b0ea-3092-4a26-8f0f-18850268f994"
      },
      "execution_count": 92,
      "outputs": [
        {
          "output_type": "stream",
          "name": "stdout",
          "text": [
            "--------------------\n",
            "{'name': 'Archit', 'roll': 22053579, 'state': 'Odisha', 'gender': 'male'}\n",
            "Odisha\n",
            "{'name': 'Archit', 'roll': 22053579, 'state': 'WB', 'gender': 'male'}\n",
            "{'name': 'Archit', 'roll': 22053579, 'state': 'WB', 'gender': 'male', 'age': 21}\n",
            "  \n",
            "<class 'dict'>\n",
            "<class 'list'>\n",
            "<class 'int'>\n",
            "<class 'str'>\n",
            "  \n",
            " Check existence of values \n",
            "--------------------\n",
            "False\n",
            "True\n",
            "True\n",
            "False\n",
            "  \n",
            " Printing all fruits \n",
            "--------------------\n",
            "banana\n",
            "kiwi\n",
            "apple\n",
            "  \n",
            " Printing the dictionary  \n",
            "--------------------\n",
            "name = Archit\n",
            "roll = 22053579\n",
            "state = WB\n",
            "gender = male\n",
            "age = 21\n",
            "{'apple', 'kiwi', 'orange'}\n",
            "<class 'set'>\n"
          ]
        }
      ]
    },
    {
      "cell_type": "code",
      "source": [
        "# SET DATA STRUCTURE\n",
        "\n",
        "myset = {'apple', \"kiwi\", 'orange', 'apple'}\n",
        "print(myset)\n",
        "print(type(myset))\n",
        "\n",
        "print('apple' in myset)\n",
        "print('guava' in myset)\n",
        "\n"
      ],
      "metadata": {
        "colab": {
          "base_uri": "https://localhost:8080/"
        },
        "id": "4-kWh_Jw0u9E",
        "outputId": "63909aeb-7bb9-4841-e34b-3dc4ee457cdd"
      },
      "execution_count": 94,
      "outputs": [
        {
          "output_type": "stream",
          "name": "stdout",
          "text": [
            "{'apple', 'kiwi', 'orange'}\n",
            "<class 'set'>\n",
            "True\n",
            "False\n"
          ]
        }
      ]
    },
    {
      "cell_type": "code",
      "source": [
        "# TUPLE DATA STRUCTURE\n",
        "\n",
        "data = ('Kaushal', 294, 'Delhi', 'M', 20)\n",
        "#data[2] = 'Guwahati'  # not possible because tuple is immutable/unchangeable\n",
        "#data.append('kp16')  # not possible because tuple is immutable/unchangeable\n",
        "\n",
        "\n",
        "print('-' * 20)\n",
        "print(data)     # TUPLE - VALUES IN PARENTHESIS\n",
        "print(type(data))\n",
        "print('-' * 20)\n",
        "\n",
        "\n",
        "list1 =list(data)\n",
        "list1[2] = 'Guwahati' # Possible as lists are mutable like dictionary and set but not (tuple and string)\n",
        "list1.append('kp16')  # Possible as lists are mutable like dictionary and set but not (tuple and string)\n",
        "print(list1)   # LIST - VALUES IN SQUARE BRACKET\n",
        "print(type(list1))"
      ],
      "metadata": {
        "colab": {
          "base_uri": "https://localhost:8080/"
        },
        "id": "hmmKd50j18Gf",
        "outputId": "102f8baa-3cab-4202-cd84-46d96efbcdec"
      },
      "execution_count": 101,
      "outputs": [
        {
          "output_type": "stream",
          "name": "stdout",
          "text": [
            "--------------------\n",
            "('Kaushal', 294, 'Delhi', 'M', 20)\n",
            "<class 'tuple'>\n",
            "--------------------\n",
            "['Kaushal', 294, 'Guwahati', 'M', 20, 'kp16']\n",
            "<class 'list'>\n"
          ]
        }
      ]
    }
  ]
}