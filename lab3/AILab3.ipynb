{
  "nbformat": 4,
  "nbformat_minor": 0,
  "metadata": {
    "colab": {
      "provenance": []
    },
    "kernelspec": {
      "name": "python3",
      "display_name": "Python 3"
    },
    "language_info": {
      "name": "python"
    }
  },
  "cells": [
    {
      "cell_type": "code",
      "execution_count": null,
      "metadata": {
        "colab": {
          "base_uri": "https://localhost:8080/"
        },
        "id": "UuVpsnwJt3Cb",
        "outputId": "684d4a7a-246e-4f07-d85e-c2103b9ab66f"
      },
      "outputs": [
        {
          "output_type": "stream",
          "name": "stdout",
          "text": [
            "hola\n"
          ]
        }
      ],
      "source": [
        "print('hola')"
      ]
    },
    {
      "cell_type": "code",
      "source": [
        "subtract = lambda a, b: a-b\n",
        "print('5 - 3 =', subtract(5,3))\n",
        "print('5 - 3 =', subtract(b=3,a=5))"
      ],
      "metadata": {
        "colab": {
          "base_uri": "https://localhost:8080/"
        },
        "id": "HwBLIYaYupAh",
        "outputId": "6edd5497-908e-4ba5-98ae-039e04cbe9d4"
      },
      "execution_count": null,
      "outputs": [
        {
          "output_type": "stream",
          "name": "stdout",
          "text": [
            "5 - 3 = 2\n",
            "5 - 3 = 2\n"
          ]
        }
      ]
    },
    {
      "cell_type": "code",
      "source": [
        "import random\n",
        "print (random.random())\n",
        "\n",
        "generate = lambda a,b: a+(b-a)*random.random() #random number will now come within the range a to b\n",
        "print (generate(5,100))\n",
        "\n",
        "generate1 = lambda a,b: int(a+(b-a)*random.random())  #typecast int to only get integer values within the range\n",
        "print (generate1(5,100))"
      ],
      "metadata": {
        "colab": {
          "base_uri": "https://localhost:8080/"
        },
        "id": "jPJ2XEb_vaPj",
        "outputId": "39b49243-7f26-4fe8-f713-2eab9155b7d0"
      },
      "execution_count": null,
      "outputs": [
        {
          "output_type": "stream",
          "name": "stdout",
          "text": [
            "0.8643228115599428\n",
            "61.30085249477493\n",
            "62\n"
          ]
        }
      ]
    },
    {
      "cell_type": "code",
      "source": [
        "l = [3, 0, 1, 9, -9, 7, -3]\n",
        "#increasing\n",
        "print('Increasing order Sort')\n",
        "print(sorted(l))\n",
        "print(sorted(l, key=lambda x: x))\n",
        "#decreasing\n",
        "print('Decreasing Order Sort')\n",
        "print(sorted(l, reverse = True))\n",
        "print(sorted(l, key=lambda x: - x))\n",
        "\n",
        "#sort with magnitude only => -9 and 9 are same as minus sign isnt considered\n",
        "print('Increasing order Sort by ignoring -ve signs')\n",
        "print(sorted(l, key=lambda x: x*x))\n",
        "# or use inbuilt abs() function\n",
        "print(sorted(l, key=lambda x: abs(x)))\n",
        "\n",
        "print('Decreasing order Sort by ignoring -ve signs')\n",
        "print(sorted(l, key=lambda x: - abs(x)))"
      ],
      "metadata": {
        "colab": {
          "base_uri": "https://localhost:8080/"
        },
        "id": "Sn51aW2-wPni",
        "outputId": "634918be-6ffe-45ef-db40-57caadcbe5b0"
      },
      "execution_count": null,
      "outputs": [
        {
          "output_type": "stream",
          "name": "stdout",
          "text": [
            "Increasing order Sort\n",
            "[-9, -3, 0, 1, 3, 7, 9]\n",
            "[-9, -3, 0, 1, 3, 7, 9]\n",
            "Decreasing Order Sort\n",
            "[9, 7, 3, 1, 0, -3, -9]\n",
            "[9, 7, 3, 1, 0, -3, -9]\n",
            "Increasing order Sort by ignoring -ve signs\n",
            "[0, 1, 3, -3, 7, 9, -9]\n",
            "[0, 1, 3, -3, 7, 9, -9]\n",
            "Decreasing order Sort by ignoring -ve signs\n",
            "[9, -9, 7, 3, -3, 1, 0]\n"
          ]
        }
      ]
    },
    {
      "cell_type": "code",
      "source": [
        "#creating a list of squares\n",
        "squares = []\n",
        "for i in range(10):\n",
        "    squares.append(i*i) # or i**2\n",
        "print(squares)\n",
        "\n",
        "#list comprehension - same job of filling a list with some expression but done in one line => more concise\n",
        "squares1 = [i**2 for i in range(10)]\n",
        "print(squares1)\n",
        "\n",
        "print(squares==squares1)\n",
        "\n",
        "print('Square map:')\n",
        "squareMap1 = {x:x*x for x in range(10)}\n",
        "print(squareMap1)"
      ],
      "metadata": {
        "colab": {
          "base_uri": "https://localhost:8080/"
        },
        "id": "g-YSJeN5ybgb",
        "outputId": "6cdb6fed-4bdb-4aa4-dcb8-ce8b9f045201"
      },
      "execution_count": null,
      "outputs": [
        {
          "output_type": "stream",
          "name": "stdout",
          "text": [
            "[0, 1, 4, 9, 16, 25, 36, 49, 64, 81]\n",
            "[0, 1, 4, 9, 16, 25, 36, 49, 64, 81]\n",
            "True\n",
            "Square map:\n",
            "{0: 0, 1: 1, 2: 4, 3: 9, 4: 16, 5: 25, 6: 36, 7: 49, 8: 64, 9: 81}\n"
          ]
        }
      ]
    },
    {
      "cell_type": "code",
      "source": [
        "# Creating a sort of lookup table or map in cpp\n",
        "\n",
        "roll = [303, 690, 631]\n",
        "name = ['Jeet', 'Ipsita', 'Shreyasa']\n",
        "nameMap = {roll[i]:name[i] for i in range(len(roll))}\n",
        "print(nameMap[690])\n",
        "print(nameMap)"
      ],
      "metadata": {
        "colab": {
          "base_uri": "https://localhost:8080/"
        },
        "id": "_urAnxNa0yuP",
        "outputId": "2d9f2766-86c8-4534-9c3c-c1576e2d1de4"
      },
      "execution_count": null,
      "outputs": [
        {
          "output_type": "stream",
          "name": "stdout",
          "text": [
            "Ipsita\n",
            "{303: 'Jeet', 690: 'Ipsita', 631: 'Shreyasa'}\n"
          ]
        }
      ]
    },
    {
      "cell_type": "code",
      "source": [
        "# Generating passwords using list comprehension twice\n",
        "\n",
        "helper = [x+y for x in 'jms' for y in 'a12346e95779iou#@*()%&']\n",
        "passwords = [ x+y for x in helper for y in helper]\n",
        "print(passwords)\n"
      ],
      "metadata": {
        "colab": {
          "base_uri": "https://localhost:8080/"
        },
        "id": "gwSP-VjD1P0G",
        "outputId": "58d0d78d-1e88-47d0-80fc-cfd828e7a5cb"
      },
      "execution_count": null,
      "outputs": [
        {
          "output_type": "stream",
          "name": "stdout",
          "text": [
            "['jaja', 'jaj1', 'jaj2', 'jaj3', 'jaj4', 'jaj6', 'jaje', 'jaj9', 'jaj5', 'jaj7', 'jaj7', 'jaj9', 'jaji', 'jajo', 'jaju', 'jaj#', 'jaj@', 'jaj*', 'jaj(', 'jaj)', 'jaj%', 'jaj&', 'jama', 'jam1', 'jam2', 'jam3', 'jam4', 'jam6', 'jame', 'jam9', 'jam5', 'jam7', 'jam7', 'jam9', 'jami', 'jamo', 'jamu', 'jam#', 'jam@', 'jam*', 'jam(', 'jam)', 'jam%', 'jam&', 'jasa', 'jas1', 'jas2', 'jas3', 'jas4', 'jas6', 'jase', 'jas9', 'jas5', 'jas7', 'jas7', 'jas9', 'jasi', 'jaso', 'jasu', 'jas#', 'jas@', 'jas*', 'jas(', 'jas)', 'jas%', 'jas&', 'j1ja', 'j1j1', 'j1j2', 'j1j3', 'j1j4', 'j1j6', 'j1je', 'j1j9', 'j1j5', 'j1j7', 'j1j7', 'j1j9', 'j1ji', 'j1jo', 'j1ju', 'j1j#', 'j1j@', 'j1j*', 'j1j(', 'j1j)', 'j1j%', 'j1j&', 'j1ma', 'j1m1', 'j1m2', 'j1m3', 'j1m4', 'j1m6', 'j1me', 'j1m9', 'j1m5', 'j1m7', 'j1m7', 'j1m9', 'j1mi', 'j1mo', 'j1mu', 'j1m#', 'j1m@', 'j1m*', 'j1m(', 'j1m)', 'j1m%', 'j1m&', 'j1sa', 'j1s1', 'j1s2', 'j1s3', 'j1s4', 'j1s6', 'j1se', 'j1s9', 'j1s5', 'j1s7', 'j1s7', 'j1s9', 'j1si', 'j1so', 'j1su', 'j1s#', 'j1s@', 'j1s*', 'j1s(', 'j1s)', 'j1s%', 'j1s&', 'j2ja', 'j2j1', 'j2j2', 'j2j3', 'j2j4', 'j2j6', 'j2je', 'j2j9', 'j2j5', 'j2j7', 'j2j7', 'j2j9', 'j2ji', 'j2jo', 'j2ju', 'j2j#', 'j2j@', 'j2j*', 'j2j(', 'j2j)', 'j2j%', 'j2j&', 'j2ma', 'j2m1', 'j2m2', 'j2m3', 'j2m4', 'j2m6', 'j2me', 'j2m9', 'j2m5', 'j2m7', 'j2m7', 'j2m9', 'j2mi', 'j2mo', 'j2mu', 'j2m#', 'j2m@', 'j2m*', 'j2m(', 'j2m)', 'j2m%', 'j2m&', 'j2sa', 'j2s1', 'j2s2', 'j2s3', 'j2s4', 'j2s6', 'j2se', 'j2s9', 'j2s5', 'j2s7', 'j2s7', 'j2s9', 'j2si', 'j2so', 'j2su', 'j2s#', 'j2s@', 'j2s*', 'j2s(', 'j2s)', 'j2s%', 'j2s&', 'j3ja', 'j3j1', 'j3j2', 'j3j3', 'j3j4', 'j3j6', 'j3je', 'j3j9', 'j3j5', 'j3j7', 'j3j7', 'j3j9', 'j3ji', 'j3jo', 'j3ju', 'j3j#', 'j3j@', 'j3j*', 'j3j(', 'j3j)', 'j3j%', 'j3j&', 'j3ma', 'j3m1', 'j3m2', 'j3m3', 'j3m4', 'j3m6', 'j3me', 'j3m9', 'j3m5', 'j3m7', 'j3m7', 'j3m9', 'j3mi', 'j3mo', 'j3mu', 'j3m#', 'j3m@', 'j3m*', 'j3m(', 'j3m)', 'j3m%', 'j3m&', 'j3sa', 'j3s1', 'j3s2', 'j3s3', 'j3s4', 'j3s6', 'j3se', 'j3s9', 'j3s5', 'j3s7', 'j3s7', 'j3s9', 'j3si', 'j3so', 'j3su', 'j3s#', 'j3s@', 'j3s*', 'j3s(', 'j3s)', 'j3s%', 'j3s&', 'j4ja', 'j4j1', 'j4j2', 'j4j3', 'j4j4', 'j4j6', 'j4je', 'j4j9', 'j4j5', 'j4j7', 'j4j7', 'j4j9', 'j4ji', 'j4jo', 'j4ju', 'j4j#', 'j4j@', 'j4j*', 'j4j(', 'j4j)', 'j4j%', 'j4j&', 'j4ma', 'j4m1', 'j4m2', 'j4m3', 'j4m4', 'j4m6', 'j4me', 'j4m9', 'j4m5', 'j4m7', 'j4m7', 'j4m9', 'j4mi', 'j4mo', 'j4mu', 'j4m#', 'j4m@', 'j4m*', 'j4m(', 'j4m)', 'j4m%', 'j4m&', 'j4sa', 'j4s1', 'j4s2', 'j4s3', 'j4s4', 'j4s6', 'j4se', 'j4s9', 'j4s5', 'j4s7', 'j4s7', 'j4s9', 'j4si', 'j4so', 'j4su', 'j4s#', 'j4s@', 'j4s*', 'j4s(', 'j4s)', 'j4s%', 'j4s&', 'j6ja', 'j6j1', 'j6j2', 'j6j3', 'j6j4', 'j6j6', 'j6je', 'j6j9', 'j6j5', 'j6j7', 'j6j7', 'j6j9', 'j6ji', 'j6jo', 'j6ju', 'j6j#', 'j6j@', 'j6j*', 'j6j(', 'j6j)', 'j6j%', 'j6j&', 'j6ma', 'j6m1', 'j6m2', 'j6m3', 'j6m4', 'j6m6', 'j6me', 'j6m9', 'j6m5', 'j6m7', 'j6m7', 'j6m9', 'j6mi', 'j6mo', 'j6mu', 'j6m#', 'j6m@', 'j6m*', 'j6m(', 'j6m)', 'j6m%', 'j6m&', 'j6sa', 'j6s1', 'j6s2', 'j6s3', 'j6s4', 'j6s6', 'j6se', 'j6s9', 'j6s5', 'j6s7', 'j6s7', 'j6s9', 'j6si', 'j6so', 'j6su', 'j6s#', 'j6s@', 'j6s*', 'j6s(', 'j6s)', 'j6s%', 'j6s&', 'jeja', 'jej1', 'jej2', 'jej3', 'jej4', 'jej6', 'jeje', 'jej9', 'jej5', 'jej7', 'jej7', 'jej9', 'jeji', 'jejo', 'jeju', 'jej#', 'jej@', 'jej*', 'jej(', 'jej)', 'jej%', 'jej&', 'jema', 'jem1', 'jem2', 'jem3', 'jem4', 'jem6', 'jeme', 'jem9', 'jem5', 'jem7', 'jem7', 'jem9', 'jemi', 'jemo', 'jemu', 'jem#', 'jem@', 'jem*', 'jem(', 'jem)', 'jem%', 'jem&', 'jesa', 'jes1', 'jes2', 'jes3', 'jes4', 'jes6', 'jese', 'jes9', 'jes5', 'jes7', 'jes7', 'jes9', 'jesi', 'jeso', 'jesu', 'jes#', 'jes@', 'jes*', 'jes(', 'jes)', 'jes%', 'jes&', 'j9ja', 'j9j1', 'j9j2', 'j9j3', 'j9j4', 'j9j6', 'j9je', 'j9j9', 'j9j5', 'j9j7', 'j9j7', 'j9j9', 'j9ji', 'j9jo', 'j9ju', 'j9j#', 'j9j@', 'j9j*', 'j9j(', 'j9j)', 'j9j%', 'j9j&', 'j9ma', 'j9m1', 'j9m2', 'j9m3', 'j9m4', 'j9m6', 'j9me', 'j9m9', 'j9m5', 'j9m7', 'j9m7', 'j9m9', 'j9mi', 'j9mo', 'j9mu', 'j9m#', 'j9m@', 'j9m*', 'j9m(', 'j9m)', 'j9m%', 'j9m&', 'j9sa', 'j9s1', 'j9s2', 'j9s3', 'j9s4', 'j9s6', 'j9se', 'j9s9', 'j9s5', 'j9s7', 'j9s7', 'j9s9', 'j9si', 'j9so', 'j9su', 'j9s#', 'j9s@', 'j9s*', 'j9s(', 'j9s)', 'j9s%', 'j9s&', 'j5ja', 'j5j1', 'j5j2', 'j5j3', 'j5j4', 'j5j6', 'j5je', 'j5j9', 'j5j5', 'j5j7', 'j5j7', 'j5j9', 'j5ji', 'j5jo', 'j5ju', 'j5j#', 'j5j@', 'j5j*', 'j5j(', 'j5j)', 'j5j%', 'j5j&', 'j5ma', 'j5m1', 'j5m2', 'j5m3', 'j5m4', 'j5m6', 'j5me', 'j5m9', 'j5m5', 'j5m7', 'j5m7', 'j5m9', 'j5mi', 'j5mo', 'j5mu', 'j5m#', 'j5m@', 'j5m*', 'j5m(', 'j5m)', 'j5m%', 'j5m&', 'j5sa', 'j5s1', 'j5s2', 'j5s3', 'j5s4', 'j5s6', 'j5se', 'j5s9', 'j5s5', 'j5s7', 'j5s7', 'j5s9', 'j5si', 'j5so', 'j5su', 'j5s#', 'j5s@', 'j5s*', 'j5s(', 'j5s)', 'j5s%', 'j5s&', 'j7ja', 'j7j1', 'j7j2', 'j7j3', 'j7j4', 'j7j6', 'j7je', 'j7j9', 'j7j5', 'j7j7', 'j7j7', 'j7j9', 'j7ji', 'j7jo', 'j7ju', 'j7j#', 'j7j@', 'j7j*', 'j7j(', 'j7j)', 'j7j%', 'j7j&', 'j7ma', 'j7m1', 'j7m2', 'j7m3', 'j7m4', 'j7m6', 'j7me', 'j7m9', 'j7m5', 'j7m7', 'j7m7', 'j7m9', 'j7mi', 'j7mo', 'j7mu', 'j7m#', 'j7m@', 'j7m*', 'j7m(', 'j7m)', 'j7m%', 'j7m&', 'j7sa', 'j7s1', 'j7s2', 'j7s3', 'j7s4', 'j7s6', 'j7se', 'j7s9', 'j7s5', 'j7s7', 'j7s7', 'j7s9', 'j7si', 'j7so', 'j7su', 'j7s#', 'j7s@', 'j7s*', 'j7s(', 'j7s)', 'j7s%', 'j7s&', 'j7ja', 'j7j1', 'j7j2', 'j7j3', 'j7j4', 'j7j6', 'j7je', 'j7j9', 'j7j5', 'j7j7', 'j7j7', 'j7j9', 'j7ji', 'j7jo', 'j7ju', 'j7j#', 'j7j@', 'j7j*', 'j7j(', 'j7j)', 'j7j%', 'j7j&', 'j7ma', 'j7m1', 'j7m2', 'j7m3', 'j7m4', 'j7m6', 'j7me', 'j7m9', 'j7m5', 'j7m7', 'j7m7', 'j7m9', 'j7mi', 'j7mo', 'j7mu', 'j7m#', 'j7m@', 'j7m*', 'j7m(', 'j7m)', 'j7m%', 'j7m&', 'j7sa', 'j7s1', 'j7s2', 'j7s3', 'j7s4', 'j7s6', 'j7se', 'j7s9', 'j7s5', 'j7s7', 'j7s7', 'j7s9', 'j7si', 'j7so', 'j7su', 'j7s#', 'j7s@', 'j7s*', 'j7s(', 'j7s)', 'j7s%', 'j7s&', 'j9ja', 'j9j1', 'j9j2', 'j9j3', 'j9j4', 'j9j6', 'j9je', 'j9j9', 'j9j5', 'j9j7', 'j9j7', 'j9j9', 'j9ji', 'j9jo', 'j9ju', 'j9j#', 'j9j@', 'j9j*', 'j9j(', 'j9j)', 'j9j%', 'j9j&', 'j9ma', 'j9m1', 'j9m2', 'j9m3', 'j9m4', 'j9m6', 'j9me', 'j9m9', 'j9m5', 'j9m7', 'j9m7', 'j9m9', 'j9mi', 'j9mo', 'j9mu', 'j9m#', 'j9m@', 'j9m*', 'j9m(', 'j9m)', 'j9m%', 'j9m&', 'j9sa', 'j9s1', 'j9s2', 'j9s3', 'j9s4', 'j9s6', 'j9se', 'j9s9', 'j9s5', 'j9s7', 'j9s7', 'j9s9', 'j9si', 'j9so', 'j9su', 'j9s#', 'j9s@', 'j9s*', 'j9s(', 'j9s)', 'j9s%', 'j9s&', 'jija', 'jij1', 'jij2', 'jij3', 'jij4', 'jij6', 'jije', 'jij9', 'jij5', 'jij7', 'jij7', 'jij9', 'jiji', 'jijo', 'jiju', 'jij#', 'jij@', 'jij*', 'jij(', 'jij)', 'jij%', 'jij&', 'jima', 'jim1', 'jim2', 'jim3', 'jim4', 'jim6', 'jime', 'jim9', 'jim5', 'jim7', 'jim7', 'jim9', 'jimi', 'jimo', 'jimu', 'jim#', 'jim@', 'jim*', 'jim(', 'jim)', 'jim%', 'jim&', 'jisa', 'jis1', 'jis2', 'jis3', 'jis4', 'jis6', 'jise', 'jis9', 'jis5', 'jis7', 'jis7', 'jis9', 'jisi', 'jiso', 'jisu', 'jis#', 'jis@', 'jis*', 'jis(', 'jis)', 'jis%', 'jis&', 'joja', 'joj1', 'joj2', 'joj3', 'joj4', 'joj6', 'joje', 'joj9', 'joj5', 'joj7', 'joj7', 'joj9', 'joji', 'jojo', 'joju', 'joj#', 'joj@', 'joj*', 'joj(', 'joj)', 'joj%', 'joj&', 'joma', 'jom1', 'jom2', 'jom3', 'jom4', 'jom6', 'jome', 'jom9', 'jom5', 'jom7', 'jom7', 'jom9', 'jomi', 'jomo', 'jomu', 'jom#', 'jom@', 'jom*', 'jom(', 'jom)', 'jom%', 'jom&', 'josa', 'jos1', 'jos2', 'jos3', 'jos4', 'jos6', 'jose', 'jos9', 'jos5', 'jos7', 'jos7', 'jos9', 'josi', 'joso', 'josu', 'jos#', 'jos@', 'jos*', 'jos(', 'jos)', 'jos%', 'jos&', 'juja', 'juj1', 'juj2', 'juj3', 'juj4', 'juj6', 'juje', 'juj9', 'juj5', 'juj7', 'juj7', 'juj9', 'juji', 'jujo', 'juju', 'juj#', 'juj@', 'juj*', 'juj(', 'juj)', 'juj%', 'juj&', 'juma', 'jum1', 'jum2', 'jum3', 'jum4', 'jum6', 'jume', 'jum9', 'jum5', 'jum7', 'jum7', 'jum9', 'jumi', 'jumo', 'jumu', 'jum#', 'jum@', 'jum*', 'jum(', 'jum)', 'jum%', 'jum&', 'jusa', 'jus1', 'jus2', 'jus3', 'jus4', 'jus6', 'juse', 'jus9', 'jus5', 'jus7', 'jus7', 'jus9', 'jusi', 'juso', 'jusu', 'jus#', 'jus@', 'jus*', 'jus(', 'jus)', 'jus%', 'jus&', 'j#ja', 'j#j1', 'j#j2', 'j#j3', 'j#j4', 'j#j6', 'j#je', 'j#j9', 'j#j5', 'j#j7', 'j#j7', 'j#j9', 'j#ji', 'j#jo', 'j#ju', 'j#j#', 'j#j@', 'j#j*', 'j#j(', 'j#j)', 'j#j%', 'j#j&', 'j#ma', 'j#m1', 'j#m2', 'j#m3', 'j#m4', 'j#m6', 'j#me', 'j#m9', 'j#m5', 'j#m7', 'j#m7', 'j#m9', 'j#mi', 'j#mo', 'j#mu', 'j#m#', 'j#m@', 'j#m*', 'j#m(', 'j#m)', 'j#m%', 'j#m&', 'j#sa', 'j#s1', 'j#s2', 'j#s3', 'j#s4', 'j#s6', 'j#se', 'j#s9', 'j#s5', 'j#s7', 'j#s7', 'j#s9', 'j#si', 'j#so', 'j#su', 'j#s#', 'j#s@', 'j#s*', 'j#s(', 'j#s)', 'j#s%', 'j#s&', 'j@ja', 'j@j1', 'j@j2', 'j@j3', 'j@j4', 'j@j6', 'j@je', 'j@j9', 'j@j5', 'j@j7', 'j@j7', 'j@j9', 'j@ji', 'j@jo', 'j@ju', 'j@j#', 'j@j@', 'j@j*', 'j@j(', 'j@j)', 'j@j%', 'j@j&', 'j@ma', 'j@m1', 'j@m2', 'j@m3', 'j@m4', 'j@m6', 'j@me', 'j@m9', 'j@m5', 'j@m7', 'j@m7', 'j@m9', 'j@mi', 'j@mo', 'j@mu', 'j@m#', 'j@m@', 'j@m*', 'j@m(', 'j@m)', 'j@m%', 'j@m&', 'j@sa', 'j@s1', 'j@s2', 'j@s3', 'j@s4', 'j@s6', 'j@se', 'j@s9', 'j@s5', 'j@s7', 'j@s7', 'j@s9', 'j@si', 'j@so', 'j@su', 'j@s#', 'j@s@', 'j@s*', 'j@s(', 'j@s)', 'j@s%', 'j@s&', 'j*ja', 'j*j1', 'j*j2', 'j*j3', 'j*j4', 'j*j6', 'j*je', 'j*j9', 'j*j5', 'j*j7', 'j*j7', 'j*j9', 'j*ji', 'j*jo', 'j*ju', 'j*j#', 'j*j@', 'j*j*', 'j*j(', 'j*j)', 'j*j%', 'j*j&', 'j*ma', 'j*m1', 'j*m2', 'j*m3', 'j*m4', 'j*m6', 'j*me', 'j*m9', 'j*m5', 'j*m7', 'j*m7', 'j*m9', 'j*mi', 'j*mo', 'j*mu', 'j*m#', 'j*m@', 'j*m*', 'j*m(', 'j*m)', 'j*m%', 'j*m&', 'j*sa', 'j*s1', 'j*s2', 'j*s3', 'j*s4', 'j*s6', 'j*se', 'j*s9', 'j*s5', 'j*s7', 'j*s7', 'j*s9', 'j*si', 'j*so', 'j*su', 'j*s#', 'j*s@', 'j*s*', 'j*s(', 'j*s)', 'j*s%', 'j*s&', 'j(ja', 'j(j1', 'j(j2', 'j(j3', 'j(j4', 'j(j6', 'j(je', 'j(j9', 'j(j5', 'j(j7', 'j(j7', 'j(j9', 'j(ji', 'j(jo', 'j(ju', 'j(j#', 'j(j@', 'j(j*', 'j(j(', 'j(j)', 'j(j%', 'j(j&', 'j(ma', 'j(m1', 'j(m2', 'j(m3', 'j(m4', 'j(m6', 'j(me', 'j(m9', 'j(m5', 'j(m7', 'j(m7', 'j(m9', 'j(mi', 'j(mo', 'j(mu', 'j(m#', 'j(m@', 'j(m*', 'j(m(', 'j(m)', 'j(m%', 'j(m&', 'j(sa', 'j(s1', 'j(s2', 'j(s3', 'j(s4', 'j(s6', 'j(se', 'j(s9', 'j(s5', 'j(s7', 'j(s7', 'j(s9', 'j(si', 'j(so', 'j(su', 'j(s#', 'j(s@', 'j(s*', 'j(s(', 'j(s)', 'j(s%', 'j(s&', 'j)ja', 'j)j1', 'j)j2', 'j)j3', 'j)j4', 'j)j6', 'j)je', 'j)j9', 'j)j5', 'j)j7', 'j)j7', 'j)j9', 'j)ji', 'j)jo', 'j)ju', 'j)j#', 'j)j@', 'j)j*', 'j)j(', 'j)j)', 'j)j%', 'j)j&', 'j)ma', 'j)m1', 'j)m2', 'j)m3', 'j)m4', 'j)m6', 'j)me', 'j)m9', 'j)m5', 'j)m7', 'j)m7', 'j)m9', 'j)mi', 'j)mo', 'j)mu', 'j)m#', 'j)m@', 'j)m*', 'j)m(', 'j)m)', 'j)m%', 'j)m&', 'j)sa', 'j)s1', 'j)s2', 'j)s3', 'j)s4', 'j)s6', 'j)se', 'j)s9', 'j)s5', 'j)s7', 'j)s7', 'j)s9', 'j)si', 'j)so', 'j)su', 'j)s#', 'j)s@', 'j)s*', 'j)s(', 'j)s)', 'j)s%', 'j)s&', 'j%ja', 'j%j1', 'j%j2', 'j%j3', 'j%j4', 'j%j6', 'j%je', 'j%j9', 'j%j5', 'j%j7', 'j%j7', 'j%j9', 'j%ji', 'j%jo', 'j%ju', 'j%j#', 'j%j@', 'j%j*', 'j%j(', 'j%j)', 'j%j%', 'j%j&', 'j%ma', 'j%m1', 'j%m2', 'j%m3', 'j%m4', 'j%m6', 'j%me', 'j%m9', 'j%m5', 'j%m7', 'j%m7', 'j%m9', 'j%mi', 'j%mo', 'j%mu', 'j%m#', 'j%m@', 'j%m*', 'j%m(', 'j%m)', 'j%m%', 'j%m&', 'j%sa', 'j%s1', 'j%s2', 'j%s3', 'j%s4', 'j%s6', 'j%se', 'j%s9', 'j%s5', 'j%s7', 'j%s7', 'j%s9', 'j%si', 'j%so', 'j%su', 'j%s#', 'j%s@', 'j%s*', 'j%s(', 'j%s)', 'j%s%', 'j%s&', 'j&ja', 'j&j1', 'j&j2', 'j&j3', 'j&j4', 'j&j6', 'j&je', 'j&j9', 'j&j5', 'j&j7', 'j&j7', 'j&j9', 'j&ji', 'j&jo', 'j&ju', 'j&j#', 'j&j@', 'j&j*', 'j&j(', 'j&j)', 'j&j%', 'j&j&', 'j&ma', 'j&m1', 'j&m2', 'j&m3', 'j&m4', 'j&m6', 'j&me', 'j&m9', 'j&m5', 'j&m7', 'j&m7', 'j&m9', 'j&mi', 'j&mo', 'j&mu', 'j&m#', 'j&m@', 'j&m*', 'j&m(', 'j&m)', 'j&m%', 'j&m&', 'j&sa', 'j&s1', 'j&s2', 'j&s3', 'j&s4', 'j&s6', 'j&se', 'j&s9', 'j&s5', 'j&s7', 'j&s7', 'j&s9', 'j&si', 'j&so', 'j&su', 'j&s#', 'j&s@', 'j&s*', 'j&s(', 'j&s)', 'j&s%', 'j&s&', 'maja', 'maj1', 'maj2', 'maj3', 'maj4', 'maj6', 'maje', 'maj9', 'maj5', 'maj7', 'maj7', 'maj9', 'maji', 'majo', 'maju', 'maj#', 'maj@', 'maj*', 'maj(', 'maj)', 'maj%', 'maj&', 'mama', 'mam1', 'mam2', 'mam3', 'mam4', 'mam6', 'mame', 'mam9', 'mam5', 'mam7', 'mam7', 'mam9', 'mami', 'mamo', 'mamu', 'mam#', 'mam@', 'mam*', 'mam(', 'mam)', 'mam%', 'mam&', 'masa', 'mas1', 'mas2', 'mas3', 'mas4', 'mas6', 'mase', 'mas9', 'mas5', 'mas7', 'mas7', 'mas9', 'masi', 'maso', 'masu', 'mas#', 'mas@', 'mas*', 'mas(', 'mas)', 'mas%', 'mas&', 'm1ja', 'm1j1', 'm1j2', 'm1j3', 'm1j4', 'm1j6', 'm1je', 'm1j9', 'm1j5', 'm1j7', 'm1j7', 'm1j9', 'm1ji', 'm1jo', 'm1ju', 'm1j#', 'm1j@', 'm1j*', 'm1j(', 'm1j)', 'm1j%', 'm1j&', 'm1ma', 'm1m1', 'm1m2', 'm1m3', 'm1m4', 'm1m6', 'm1me', 'm1m9', 'm1m5', 'm1m7', 'm1m7', 'm1m9', 'm1mi', 'm1mo', 'm1mu', 'm1m#', 'm1m@', 'm1m*', 'm1m(', 'm1m)', 'm1m%', 'm1m&', 'm1sa', 'm1s1', 'm1s2', 'm1s3', 'm1s4', 'm1s6', 'm1se', 'm1s9', 'm1s5', 'm1s7', 'm1s7', 'm1s9', 'm1si', 'm1so', 'm1su', 'm1s#', 'm1s@', 'm1s*', 'm1s(', 'm1s)', 'm1s%', 'm1s&', 'm2ja', 'm2j1', 'm2j2', 'm2j3', 'm2j4', 'm2j6', 'm2je', 'm2j9', 'm2j5', 'm2j7', 'm2j7', 'm2j9', 'm2ji', 'm2jo', 'm2ju', 'm2j#', 'm2j@', 'm2j*', 'm2j(', 'm2j)', 'm2j%', 'm2j&', 'm2ma', 'm2m1', 'm2m2', 'm2m3', 'm2m4', 'm2m6', 'm2me', 'm2m9', 'm2m5', 'm2m7', 'm2m7', 'm2m9', 'm2mi', 'm2mo', 'm2mu', 'm2m#', 'm2m@', 'm2m*', 'm2m(', 'm2m)', 'm2m%', 'm2m&', 'm2sa', 'm2s1', 'm2s2', 'm2s3', 'm2s4', 'm2s6', 'm2se', 'm2s9', 'm2s5', 'm2s7', 'm2s7', 'm2s9', 'm2si', 'm2so', 'm2su', 'm2s#', 'm2s@', 'm2s*', 'm2s(', 'm2s)', 'm2s%', 'm2s&', 'm3ja', 'm3j1', 'm3j2', 'm3j3', 'm3j4', 'm3j6', 'm3je', 'm3j9', 'm3j5', 'm3j7', 'm3j7', 'm3j9', 'm3ji', 'm3jo', 'm3ju', 'm3j#', 'm3j@', 'm3j*', 'm3j(', 'm3j)', 'm3j%', 'm3j&', 'm3ma', 'm3m1', 'm3m2', 'm3m3', 'm3m4', 'm3m6', 'm3me', 'm3m9', 'm3m5', 'm3m7', 'm3m7', 'm3m9', 'm3mi', 'm3mo', 'm3mu', 'm3m#', 'm3m@', 'm3m*', 'm3m(', 'm3m)', 'm3m%', 'm3m&', 'm3sa', 'm3s1', 'm3s2', 'm3s3', 'm3s4', 'm3s6', 'm3se', 'm3s9', 'm3s5', 'm3s7', 'm3s7', 'm3s9', 'm3si', 'm3so', 'm3su', 'm3s#', 'm3s@', 'm3s*', 'm3s(', 'm3s)', 'm3s%', 'm3s&', 'm4ja', 'm4j1', 'm4j2', 'm4j3', 'm4j4', 'm4j6', 'm4je', 'm4j9', 'm4j5', 'm4j7', 'm4j7', 'm4j9', 'm4ji', 'm4jo', 'm4ju', 'm4j#', 'm4j@', 'm4j*', 'm4j(', 'm4j)', 'm4j%', 'm4j&', 'm4ma', 'm4m1', 'm4m2', 'm4m3', 'm4m4', 'm4m6', 'm4me', 'm4m9', 'm4m5', 'm4m7', 'm4m7', 'm4m9', 'm4mi', 'm4mo', 'm4mu', 'm4m#', 'm4m@', 'm4m*', 'm4m(', 'm4m)', 'm4m%', 'm4m&', 'm4sa', 'm4s1', 'm4s2', 'm4s3', 'm4s4', 'm4s6', 'm4se', 'm4s9', 'm4s5', 'm4s7', 'm4s7', 'm4s9', 'm4si', 'm4so', 'm4su', 'm4s#', 'm4s@', 'm4s*', 'm4s(', 'm4s)', 'm4s%', 'm4s&', 'm6ja', 'm6j1', 'm6j2', 'm6j3', 'm6j4', 'm6j6', 'm6je', 'm6j9', 'm6j5', 'm6j7', 'm6j7', 'm6j9', 'm6ji', 'm6jo', 'm6ju', 'm6j#', 'm6j@', 'm6j*', 'm6j(', 'm6j)', 'm6j%', 'm6j&', 'm6ma', 'm6m1', 'm6m2', 'm6m3', 'm6m4', 'm6m6', 'm6me', 'm6m9', 'm6m5', 'm6m7', 'm6m7', 'm6m9', 'm6mi', 'm6mo', 'm6mu', 'm6m#', 'm6m@', 'm6m*', 'm6m(', 'm6m)', 'm6m%', 'm6m&', 'm6sa', 'm6s1', 'm6s2', 'm6s3', 'm6s4', 'm6s6', 'm6se', 'm6s9', 'm6s5', 'm6s7', 'm6s7', 'm6s9', 'm6si', 'm6so', 'm6su', 'm6s#', 'm6s@', 'm6s*', 'm6s(', 'm6s)', 'm6s%', 'm6s&', 'meja', 'mej1', 'mej2', 'mej3', 'mej4', 'mej6', 'meje', 'mej9', 'mej5', 'mej7', 'mej7', 'mej9', 'meji', 'mejo', 'meju', 'mej#', 'mej@', 'mej*', 'mej(', 'mej)', 'mej%', 'mej&', 'mema', 'mem1', 'mem2', 'mem3', 'mem4', 'mem6', 'meme', 'mem9', 'mem5', 'mem7', 'mem7', 'mem9', 'memi', 'memo', 'memu', 'mem#', 'mem@', 'mem*', 'mem(', 'mem)', 'mem%', 'mem&', 'mesa', 'mes1', 'mes2', 'mes3', 'mes4', 'mes6', 'mese', 'mes9', 'mes5', 'mes7', 'mes7', 'mes9', 'mesi', 'meso', 'mesu', 'mes#', 'mes@', 'mes*', 'mes(', 'mes)', 'mes%', 'mes&', 'm9ja', 'm9j1', 'm9j2', 'm9j3', 'm9j4', 'm9j6', 'm9je', 'm9j9', 'm9j5', 'm9j7', 'm9j7', 'm9j9', 'm9ji', 'm9jo', 'm9ju', 'm9j#', 'm9j@', 'm9j*', 'm9j(', 'm9j)', 'm9j%', 'm9j&', 'm9ma', 'm9m1', 'm9m2', 'm9m3', 'm9m4', 'm9m6', 'm9me', 'm9m9', 'm9m5', 'm9m7', 'm9m7', 'm9m9', 'm9mi', 'm9mo', 'm9mu', 'm9m#', 'm9m@', 'm9m*', 'm9m(', 'm9m)', 'm9m%', 'm9m&', 'm9sa', 'm9s1', 'm9s2', 'm9s3', 'm9s4', 'm9s6', 'm9se', 'm9s9', 'm9s5', 'm9s7', 'm9s7', 'm9s9', 'm9si', 'm9so', 'm9su', 'm9s#', 'm9s@', 'm9s*', 'm9s(', 'm9s)', 'm9s%', 'm9s&', 'm5ja', 'm5j1', 'm5j2', 'm5j3', 'm5j4', 'm5j6', 'm5je', 'm5j9', 'm5j5', 'm5j7', 'm5j7', 'm5j9', 'm5ji', 'm5jo', 'm5ju', 'm5j#', 'm5j@', 'm5j*', 'm5j(', 'm5j)', 'm5j%', 'm5j&', 'm5ma', 'm5m1', 'm5m2', 'm5m3', 'm5m4', 'm5m6', 'm5me', 'm5m9', 'm5m5', 'm5m7', 'm5m7', 'm5m9', 'm5mi', 'm5mo', 'm5mu', 'm5m#', 'm5m@', 'm5m*', 'm5m(', 'm5m)', 'm5m%', 'm5m&', 'm5sa', 'm5s1', 'm5s2', 'm5s3', 'm5s4', 'm5s6', 'm5se', 'm5s9', 'm5s5', 'm5s7', 'm5s7', 'm5s9', 'm5si', 'm5so', 'm5su', 'm5s#', 'm5s@', 'm5s*', 'm5s(', 'm5s)', 'm5s%', 'm5s&', 'm7ja', 'm7j1', 'm7j2', 'm7j3', 'm7j4', 'm7j6', 'm7je', 'm7j9', 'm7j5', 'm7j7', 'm7j7', 'm7j9', 'm7ji', 'm7jo', 'm7ju', 'm7j#', 'm7j@', 'm7j*', 'm7j(', 'm7j)', 'm7j%', 'm7j&', 'm7ma', 'm7m1', 'm7m2', 'm7m3', 'm7m4', 'm7m6', 'm7me', 'm7m9', 'm7m5', 'm7m7', 'm7m7', 'm7m9', 'm7mi', 'm7mo', 'm7mu', 'm7m#', 'm7m@', 'm7m*', 'm7m(', 'm7m)', 'm7m%', 'm7m&', 'm7sa', 'm7s1', 'm7s2', 'm7s3', 'm7s4', 'm7s6', 'm7se', 'm7s9', 'm7s5', 'm7s7', 'm7s7', 'm7s9', 'm7si', 'm7so', 'm7su', 'm7s#', 'm7s@', 'm7s*', 'm7s(', 'm7s)', 'm7s%', 'm7s&', 'm7ja', 'm7j1', 'm7j2', 'm7j3', 'm7j4', 'm7j6', 'm7je', 'm7j9', 'm7j5', 'm7j7', 'm7j7', 'm7j9', 'm7ji', 'm7jo', 'm7ju', 'm7j#', 'm7j@', 'm7j*', 'm7j(', 'm7j)', 'm7j%', 'm7j&', 'm7ma', 'm7m1', 'm7m2', 'm7m3', 'm7m4', 'm7m6', 'm7me', 'm7m9', 'm7m5', 'm7m7', 'm7m7', 'm7m9', 'm7mi', 'm7mo', 'm7mu', 'm7m#', 'm7m@', 'm7m*', 'm7m(', 'm7m)', 'm7m%', 'm7m&', 'm7sa', 'm7s1', 'm7s2', 'm7s3', 'm7s4', 'm7s6', 'm7se', 'm7s9', 'm7s5', 'm7s7', 'm7s7', 'm7s9', 'm7si', 'm7so', 'm7su', 'm7s#', 'm7s@', 'm7s*', 'm7s(', 'm7s)', 'm7s%', 'm7s&', 'm9ja', 'm9j1', 'm9j2', 'm9j3', 'm9j4', 'm9j6', 'm9je', 'm9j9', 'm9j5', 'm9j7', 'm9j7', 'm9j9', 'm9ji', 'm9jo', 'm9ju', 'm9j#', 'm9j@', 'm9j*', 'm9j(', 'm9j)', 'm9j%', 'm9j&', 'm9ma', 'm9m1', 'm9m2', 'm9m3', 'm9m4', 'm9m6', 'm9me', 'm9m9', 'm9m5', 'm9m7', 'm9m7', 'm9m9', 'm9mi', 'm9mo', 'm9mu', 'm9m#', 'm9m@', 'm9m*', 'm9m(', 'm9m)', 'm9m%', 'm9m&', 'm9sa', 'm9s1', 'm9s2', 'm9s3', 'm9s4', 'm9s6', 'm9se', 'm9s9', 'm9s5', 'm9s7', 'm9s7', 'm9s9', 'm9si', 'm9so', 'm9su', 'm9s#', 'm9s@', 'm9s*', 'm9s(', 'm9s)', 'm9s%', 'm9s&', 'mija', 'mij1', 'mij2', 'mij3', 'mij4', 'mij6', 'mije', 'mij9', 'mij5', 'mij7', 'mij7', 'mij9', 'miji', 'mijo', 'miju', 'mij#', 'mij@', 'mij*', 'mij(', 'mij)', 'mij%', 'mij&', 'mima', 'mim1', 'mim2', 'mim3', 'mim4', 'mim6', 'mime', 'mim9', 'mim5', 'mim7', 'mim7', 'mim9', 'mimi', 'mimo', 'mimu', 'mim#', 'mim@', 'mim*', 'mim(', 'mim)', 'mim%', 'mim&', 'misa', 'mis1', 'mis2', 'mis3', 'mis4', 'mis6', 'mise', 'mis9', 'mis5', 'mis7', 'mis7', 'mis9', 'misi', 'miso', 'misu', 'mis#', 'mis@', 'mis*', 'mis(', 'mis)', 'mis%', 'mis&', 'moja', 'moj1', 'moj2', 'moj3', 'moj4', 'moj6', 'moje', 'moj9', 'moj5', 'moj7', 'moj7', 'moj9', 'moji', 'mojo', 'moju', 'moj#', 'moj@', 'moj*', 'moj(', 'moj)', 'moj%', 'moj&', 'moma', 'mom1', 'mom2', 'mom3', 'mom4', 'mom6', 'mome', 'mom9', 'mom5', 'mom7', 'mom7', 'mom9', 'momi', 'momo', 'momu', 'mom#', 'mom@', 'mom*', 'mom(', 'mom)', 'mom%', 'mom&', 'mosa', 'mos1', 'mos2', 'mos3', 'mos4', 'mos6', 'mose', 'mos9', 'mos5', 'mos7', 'mos7', 'mos9', 'mosi', 'moso', 'mosu', 'mos#', 'mos@', 'mos*', 'mos(', 'mos)', 'mos%', 'mos&', 'muja', 'muj1', 'muj2', 'muj3', 'muj4', 'muj6', 'muje', 'muj9', 'muj5', 'muj7', 'muj7', 'muj9', 'muji', 'mujo', 'muju', 'muj#', 'muj@', 'muj*', 'muj(', 'muj)', 'muj%', 'muj&', 'muma', 'mum1', 'mum2', 'mum3', 'mum4', 'mum6', 'mume', 'mum9', 'mum5', 'mum7', 'mum7', 'mum9', 'mumi', 'mumo', 'mumu', 'mum#', 'mum@', 'mum*', 'mum(', 'mum)', 'mum%', 'mum&', 'musa', 'mus1', 'mus2', 'mus3', 'mus4', 'mus6', 'muse', 'mus9', 'mus5', 'mus7', 'mus7', 'mus9', 'musi', 'muso', 'musu', 'mus#', 'mus@', 'mus*', 'mus(', 'mus)', 'mus%', 'mus&', 'm#ja', 'm#j1', 'm#j2', 'm#j3', 'm#j4', 'm#j6', 'm#je', 'm#j9', 'm#j5', 'm#j7', 'm#j7', 'm#j9', 'm#ji', 'm#jo', 'm#ju', 'm#j#', 'm#j@', 'm#j*', 'm#j(', 'm#j)', 'm#j%', 'm#j&', 'm#ma', 'm#m1', 'm#m2', 'm#m3', 'm#m4', 'm#m6', 'm#me', 'm#m9', 'm#m5', 'm#m7', 'm#m7', 'm#m9', 'm#mi', 'm#mo', 'm#mu', 'm#m#', 'm#m@', 'm#m*', 'm#m(', 'm#m)', 'm#m%', 'm#m&', 'm#sa', 'm#s1', 'm#s2', 'm#s3', 'm#s4', 'm#s6', 'm#se', 'm#s9', 'm#s5', 'm#s7', 'm#s7', 'm#s9', 'm#si', 'm#so', 'm#su', 'm#s#', 'm#s@', 'm#s*', 'm#s(', 'm#s)', 'm#s%', 'm#s&', 'm@ja', 'm@j1', 'm@j2', 'm@j3', 'm@j4', 'm@j6', 'm@je', 'm@j9', 'm@j5', 'm@j7', 'm@j7', 'm@j9', 'm@ji', 'm@jo', 'm@ju', 'm@j#', 'm@j@', 'm@j*', 'm@j(', 'm@j)', 'm@j%', 'm@j&', 'm@ma', 'm@m1', 'm@m2', 'm@m3', 'm@m4', 'm@m6', 'm@me', 'm@m9', 'm@m5', 'm@m7', 'm@m7', 'm@m9', 'm@mi', 'm@mo', 'm@mu', 'm@m#', 'm@m@', 'm@m*', 'm@m(', 'm@m)', 'm@m%', 'm@m&', 'm@sa', 'm@s1', 'm@s2', 'm@s3', 'm@s4', 'm@s6', 'm@se', 'm@s9', 'm@s5', 'm@s7', 'm@s7', 'm@s9', 'm@si', 'm@so', 'm@su', 'm@s#', 'm@s@', 'm@s*', 'm@s(', 'm@s)', 'm@s%', 'm@s&', 'm*ja', 'm*j1', 'm*j2', 'm*j3', 'm*j4', 'm*j6', 'm*je', 'm*j9', 'm*j5', 'm*j7', 'm*j7', 'm*j9', 'm*ji', 'm*jo', 'm*ju', 'm*j#', 'm*j@', 'm*j*', 'm*j(', 'm*j)', 'm*j%', 'm*j&', 'm*ma', 'm*m1', 'm*m2', 'm*m3', 'm*m4', 'm*m6', 'm*me', 'm*m9', 'm*m5', 'm*m7', 'm*m7', 'm*m9', 'm*mi', 'm*mo', 'm*mu', 'm*m#', 'm*m@', 'm*m*', 'm*m(', 'm*m)', 'm*m%', 'm*m&', 'm*sa', 'm*s1', 'm*s2', 'm*s3', 'm*s4', 'm*s6', 'm*se', 'm*s9', 'm*s5', 'm*s7', 'm*s7', 'm*s9', 'm*si', 'm*so', 'm*su', 'm*s#', 'm*s@', 'm*s*', 'm*s(', 'm*s)', 'm*s%', 'm*s&', 'm(ja', 'm(j1', 'm(j2', 'm(j3', 'm(j4', 'm(j6', 'm(je', 'm(j9', 'm(j5', 'm(j7', 'm(j7', 'm(j9', 'm(ji', 'm(jo', 'm(ju', 'm(j#', 'm(j@', 'm(j*', 'm(j(', 'm(j)', 'm(j%', 'm(j&', 'm(ma', 'm(m1', 'm(m2', 'm(m3', 'm(m4', 'm(m6', 'm(me', 'm(m9', 'm(m5', 'm(m7', 'm(m7', 'm(m9', 'm(mi', 'm(mo', 'm(mu', 'm(m#', 'm(m@', 'm(m*', 'm(m(', 'm(m)', 'm(m%', 'm(m&', 'm(sa', 'm(s1', 'm(s2', 'm(s3', 'm(s4', 'm(s6', 'm(se', 'm(s9', 'm(s5', 'm(s7', 'm(s7', 'm(s9', 'm(si', 'm(so', 'm(su', 'm(s#', 'm(s@', 'm(s*', 'm(s(', 'm(s)', 'm(s%', 'm(s&', 'm)ja', 'm)j1', 'm)j2', 'm)j3', 'm)j4', 'm)j6', 'm)je', 'm)j9', 'm)j5', 'm)j7', 'm)j7', 'm)j9', 'm)ji', 'm)jo', 'm)ju', 'm)j#', 'm)j@', 'm)j*', 'm)j(', 'm)j)', 'm)j%', 'm)j&', 'm)ma', 'm)m1', 'm)m2', 'm)m3', 'm)m4', 'm)m6', 'm)me', 'm)m9', 'm)m5', 'm)m7', 'm)m7', 'm)m9', 'm)mi', 'm)mo', 'm)mu', 'm)m#', 'm)m@', 'm)m*', 'm)m(', 'm)m)', 'm)m%', 'm)m&', 'm)sa', 'm)s1', 'm)s2', 'm)s3', 'm)s4', 'm)s6', 'm)se', 'm)s9', 'm)s5', 'm)s7', 'm)s7', 'm)s9', 'm)si', 'm)so', 'm)su', 'm)s#', 'm)s@', 'm)s*', 'm)s(', 'm)s)', 'm)s%', 'm)s&', 'm%ja', 'm%j1', 'm%j2', 'm%j3', 'm%j4', 'm%j6', 'm%je', 'm%j9', 'm%j5', 'm%j7', 'm%j7', 'm%j9', 'm%ji', 'm%jo', 'm%ju', 'm%j#', 'm%j@', 'm%j*', 'm%j(', 'm%j)', 'm%j%', 'm%j&', 'm%ma', 'm%m1', 'm%m2', 'm%m3', 'm%m4', 'm%m6', 'm%me', 'm%m9', 'm%m5', 'm%m7', 'm%m7', 'm%m9', 'm%mi', 'm%mo', 'm%mu', 'm%m#', 'm%m@', 'm%m*', 'm%m(', 'm%m)', 'm%m%', 'm%m&', 'm%sa', 'm%s1', 'm%s2', 'm%s3', 'm%s4', 'm%s6', 'm%se', 'm%s9', 'm%s5', 'm%s7', 'm%s7', 'm%s9', 'm%si', 'm%so', 'm%su', 'm%s#', 'm%s@', 'm%s*', 'm%s(', 'm%s)', 'm%s%', 'm%s&', 'm&ja', 'm&j1', 'm&j2', 'm&j3', 'm&j4', 'm&j6', 'm&je', 'm&j9', 'm&j5', 'm&j7', 'm&j7', 'm&j9', 'm&ji', 'm&jo', 'm&ju', 'm&j#', 'm&j@', 'm&j*', 'm&j(', 'm&j)', 'm&j%', 'm&j&', 'm&ma', 'm&m1', 'm&m2', 'm&m3', 'm&m4', 'm&m6', 'm&me', 'm&m9', 'm&m5', 'm&m7', 'm&m7', 'm&m9', 'm&mi', 'm&mo', 'm&mu', 'm&m#', 'm&m@', 'm&m*', 'm&m(', 'm&m)', 'm&m%', 'm&m&', 'm&sa', 'm&s1', 'm&s2', 'm&s3', 'm&s4', 'm&s6', 'm&se', 'm&s9', 'm&s5', 'm&s7', 'm&s7', 'm&s9', 'm&si', 'm&so', 'm&su', 'm&s#', 'm&s@', 'm&s*', 'm&s(', 'm&s)', 'm&s%', 'm&s&', 'saja', 'saj1', 'saj2', 'saj3', 'saj4', 'saj6', 'saje', 'saj9', 'saj5', 'saj7', 'saj7', 'saj9', 'saji', 'sajo', 'saju', 'saj#', 'saj@', 'saj*', 'saj(', 'saj)', 'saj%', 'saj&', 'sama', 'sam1', 'sam2', 'sam3', 'sam4', 'sam6', 'same', 'sam9', 'sam5', 'sam7', 'sam7', 'sam9', 'sami', 'samo', 'samu', 'sam#', 'sam@', 'sam*', 'sam(', 'sam)', 'sam%', 'sam&', 'sasa', 'sas1', 'sas2', 'sas3', 'sas4', 'sas6', 'sase', 'sas9', 'sas5', 'sas7', 'sas7', 'sas9', 'sasi', 'saso', 'sasu', 'sas#', 'sas@', 'sas*', 'sas(', 'sas)', 'sas%', 'sas&', 's1ja', 's1j1', 's1j2', 's1j3', 's1j4', 's1j6', 's1je', 's1j9', 's1j5', 's1j7', 's1j7', 's1j9', 's1ji', 's1jo', 's1ju', 's1j#', 's1j@', 's1j*', 's1j(', 's1j)', 's1j%', 's1j&', 's1ma', 's1m1', 's1m2', 's1m3', 's1m4', 's1m6', 's1me', 's1m9', 's1m5', 's1m7', 's1m7', 's1m9', 's1mi', 's1mo', 's1mu', 's1m#', 's1m@', 's1m*', 's1m(', 's1m)', 's1m%', 's1m&', 's1sa', 's1s1', 's1s2', 's1s3', 's1s4', 's1s6', 's1se', 's1s9', 's1s5', 's1s7', 's1s7', 's1s9', 's1si', 's1so', 's1su', 's1s#', 's1s@', 's1s*', 's1s(', 's1s)', 's1s%', 's1s&', 's2ja', 's2j1', 's2j2', 's2j3', 's2j4', 's2j6', 's2je', 's2j9', 's2j5', 's2j7', 's2j7', 's2j9', 's2ji', 's2jo', 's2ju', 's2j#', 's2j@', 's2j*', 's2j(', 's2j)', 's2j%', 's2j&', 's2ma', 's2m1', 's2m2', 's2m3', 's2m4', 's2m6', 's2me', 's2m9', 's2m5', 's2m7', 's2m7', 's2m9', 's2mi', 's2mo', 's2mu', 's2m#', 's2m@', 's2m*', 's2m(', 's2m)', 's2m%', 's2m&', 's2sa', 's2s1', 's2s2', 's2s3', 's2s4', 's2s6', 's2se', 's2s9', 's2s5', 's2s7', 's2s7', 's2s9', 's2si', 's2so', 's2su', 's2s#', 's2s@', 's2s*', 's2s(', 's2s)', 's2s%', 's2s&', 's3ja', 's3j1', 's3j2', 's3j3', 's3j4', 's3j6', 's3je', 's3j9', 's3j5', 's3j7', 's3j7', 's3j9', 's3ji', 's3jo', 's3ju', 's3j#', 's3j@', 's3j*', 's3j(', 's3j)', 's3j%', 's3j&', 's3ma', 's3m1', 's3m2', 's3m3', 's3m4', 's3m6', 's3me', 's3m9', 's3m5', 's3m7', 's3m7', 's3m9', 's3mi', 's3mo', 's3mu', 's3m#', 's3m@', 's3m*', 's3m(', 's3m)', 's3m%', 's3m&', 's3sa', 's3s1', 's3s2', 's3s3', 's3s4', 's3s6', 's3se', 's3s9', 's3s5', 's3s7', 's3s7', 's3s9', 's3si', 's3so', 's3su', 's3s#', 's3s@', 's3s*', 's3s(', 's3s)', 's3s%', 's3s&', 's4ja', 's4j1', 's4j2', 's4j3', 's4j4', 's4j6', 's4je', 's4j9', 's4j5', 's4j7', 's4j7', 's4j9', 's4ji', 's4jo', 's4ju', 's4j#', 's4j@', 's4j*', 's4j(', 's4j)', 's4j%', 's4j&', 's4ma', 's4m1', 's4m2', 's4m3', 's4m4', 's4m6', 's4me', 's4m9', 's4m5', 's4m7', 's4m7', 's4m9', 's4mi', 's4mo', 's4mu', 's4m#', 's4m@', 's4m*', 's4m(', 's4m)', 's4m%', 's4m&', 's4sa', 's4s1', 's4s2', 's4s3', 's4s4', 's4s6', 's4se', 's4s9', 's4s5', 's4s7', 's4s7', 's4s9', 's4si', 's4so', 's4su', 's4s#', 's4s@', 's4s*', 's4s(', 's4s)', 's4s%', 's4s&', 's6ja', 's6j1', 's6j2', 's6j3', 's6j4', 's6j6', 's6je', 's6j9', 's6j5', 's6j7', 's6j7', 's6j9', 's6ji', 's6jo', 's6ju', 's6j#', 's6j@', 's6j*', 's6j(', 's6j)', 's6j%', 's6j&', 's6ma', 's6m1', 's6m2', 's6m3', 's6m4', 's6m6', 's6me', 's6m9', 's6m5', 's6m7', 's6m7', 's6m9', 's6mi', 's6mo', 's6mu', 's6m#', 's6m@', 's6m*', 's6m(', 's6m)', 's6m%', 's6m&', 's6sa', 's6s1', 's6s2', 's6s3', 's6s4', 's6s6', 's6se', 's6s9', 's6s5', 's6s7', 's6s7', 's6s9', 's6si', 's6so', 's6su', 's6s#', 's6s@', 's6s*', 's6s(', 's6s)', 's6s%', 's6s&', 'seja', 'sej1', 'sej2', 'sej3', 'sej4', 'sej6', 'seje', 'sej9', 'sej5', 'sej7', 'sej7', 'sej9', 'seji', 'sejo', 'seju', 'sej#', 'sej@', 'sej*', 'sej(', 'sej)', 'sej%', 'sej&', 'sema', 'sem1', 'sem2', 'sem3', 'sem4', 'sem6', 'seme', 'sem9', 'sem5', 'sem7', 'sem7', 'sem9', 'semi', 'semo', 'semu', 'sem#', 'sem@', 'sem*', 'sem(', 'sem)', 'sem%', 'sem&', 'sesa', 'ses1', 'ses2', 'ses3', 'ses4', 'ses6', 'sese', 'ses9', 'ses5', 'ses7', 'ses7', 'ses9', 'sesi', 'seso', 'sesu', 'ses#', 'ses@', 'ses*', 'ses(', 'ses)', 'ses%', 'ses&', 's9ja', 's9j1', 's9j2', 's9j3', 's9j4', 's9j6', 's9je', 's9j9', 's9j5', 's9j7', 's9j7', 's9j9', 's9ji', 's9jo', 's9ju', 's9j#', 's9j@', 's9j*', 's9j(', 's9j)', 's9j%', 's9j&', 's9ma', 's9m1', 's9m2', 's9m3', 's9m4', 's9m6', 's9me', 's9m9', 's9m5', 's9m7', 's9m7', 's9m9', 's9mi', 's9mo', 's9mu', 's9m#', 's9m@', 's9m*', 's9m(', 's9m)', 's9m%', 's9m&', 's9sa', 's9s1', 's9s2', 's9s3', 's9s4', 's9s6', 's9se', 's9s9', 's9s5', 's9s7', 's9s7', 's9s9', 's9si', 's9so', 's9su', 's9s#', 's9s@', 's9s*', 's9s(', 's9s)', 's9s%', 's9s&', 's5ja', 's5j1', 's5j2', 's5j3', 's5j4', 's5j6', 's5je', 's5j9', 's5j5', 's5j7', 's5j7', 's5j9', 's5ji', 's5jo', 's5ju', 's5j#', 's5j@', 's5j*', 's5j(', 's5j)', 's5j%', 's5j&', 's5ma', 's5m1', 's5m2', 's5m3', 's5m4', 's5m6', 's5me', 's5m9', 's5m5', 's5m7', 's5m7', 's5m9', 's5mi', 's5mo', 's5mu', 's5m#', 's5m@', 's5m*', 's5m(', 's5m)', 's5m%', 's5m&', 's5sa', 's5s1', 's5s2', 's5s3', 's5s4', 's5s6', 's5se', 's5s9', 's5s5', 's5s7', 's5s7', 's5s9', 's5si', 's5so', 's5su', 's5s#', 's5s@', 's5s*', 's5s(', 's5s)', 's5s%', 's5s&', 's7ja', 's7j1', 's7j2', 's7j3', 's7j4', 's7j6', 's7je', 's7j9', 's7j5', 's7j7', 's7j7', 's7j9', 's7ji', 's7jo', 's7ju', 's7j#', 's7j@', 's7j*', 's7j(', 's7j)', 's7j%', 's7j&', 's7ma', 's7m1', 's7m2', 's7m3', 's7m4', 's7m6', 's7me', 's7m9', 's7m5', 's7m7', 's7m7', 's7m9', 's7mi', 's7mo', 's7mu', 's7m#', 's7m@', 's7m*', 's7m(', 's7m)', 's7m%', 's7m&', 's7sa', 's7s1', 's7s2', 's7s3', 's7s4', 's7s6', 's7se', 's7s9', 's7s5', 's7s7', 's7s7', 's7s9', 's7si', 's7so', 's7su', 's7s#', 's7s@', 's7s*', 's7s(', 's7s)', 's7s%', 's7s&', 's7ja', 's7j1', 's7j2', 's7j3', 's7j4', 's7j6', 's7je', 's7j9', 's7j5', 's7j7', 's7j7', 's7j9', 's7ji', 's7jo', 's7ju', 's7j#', 's7j@', 's7j*', 's7j(', 's7j)', 's7j%', 's7j&', 's7ma', 's7m1', 's7m2', 's7m3', 's7m4', 's7m6', 's7me', 's7m9', 's7m5', 's7m7', 's7m7', 's7m9', 's7mi', 's7mo', 's7mu', 's7m#', 's7m@', 's7m*', 's7m(', 's7m)', 's7m%', 's7m&', 's7sa', 's7s1', 's7s2', 's7s3', 's7s4', 's7s6', 's7se', 's7s9', 's7s5', 's7s7', 's7s7', 's7s9', 's7si', 's7so', 's7su', 's7s#', 's7s@', 's7s*', 's7s(', 's7s)', 's7s%', 's7s&', 's9ja', 's9j1', 's9j2', 's9j3', 's9j4', 's9j6', 's9je', 's9j9', 's9j5', 's9j7', 's9j7', 's9j9', 's9ji', 's9jo', 's9ju', 's9j#', 's9j@', 's9j*', 's9j(', 's9j)', 's9j%', 's9j&', 's9ma', 's9m1', 's9m2', 's9m3', 's9m4', 's9m6', 's9me', 's9m9', 's9m5', 's9m7', 's9m7', 's9m9', 's9mi', 's9mo', 's9mu', 's9m#', 's9m@', 's9m*', 's9m(', 's9m)', 's9m%', 's9m&', 's9sa', 's9s1', 's9s2', 's9s3', 's9s4', 's9s6', 's9se', 's9s9', 's9s5', 's9s7', 's9s7', 's9s9', 's9si', 's9so', 's9su', 's9s#', 's9s@', 's9s*', 's9s(', 's9s)', 's9s%', 's9s&', 'sija', 'sij1', 'sij2', 'sij3', 'sij4', 'sij6', 'sije', 'sij9', 'sij5', 'sij7', 'sij7', 'sij9', 'siji', 'sijo', 'siju', 'sij#', 'sij@', 'sij*', 'sij(', 'sij)', 'sij%', 'sij&', 'sima', 'sim1', 'sim2', 'sim3', 'sim4', 'sim6', 'sime', 'sim9', 'sim5', 'sim7', 'sim7', 'sim9', 'simi', 'simo', 'simu', 'sim#', 'sim@', 'sim*', 'sim(', 'sim)', 'sim%', 'sim&', 'sisa', 'sis1', 'sis2', 'sis3', 'sis4', 'sis6', 'sise', 'sis9', 'sis5', 'sis7', 'sis7', 'sis9', 'sisi', 'siso', 'sisu', 'sis#', 'sis@', 'sis*', 'sis(', 'sis)', 'sis%', 'sis&', 'soja', 'soj1', 'soj2', 'soj3', 'soj4', 'soj6', 'soje', 'soj9', 'soj5', 'soj7', 'soj7', 'soj9', 'soji', 'sojo', 'soju', 'soj#', 'soj@', 'soj*', 'soj(', 'soj)', 'soj%', 'soj&', 'soma', 'som1', 'som2', 'som3', 'som4', 'som6', 'some', 'som9', 'som5', 'som7', 'som7', 'som9', 'somi', 'somo', 'somu', 'som#', 'som@', 'som*', 'som(', 'som)', 'som%', 'som&', 'sosa', 'sos1', 'sos2', 'sos3', 'sos4', 'sos6', 'sose', 'sos9', 'sos5', 'sos7', 'sos7', 'sos9', 'sosi', 'soso', 'sosu', 'sos#', 'sos@', 'sos*', 'sos(', 'sos)', 'sos%', 'sos&', 'suja', 'suj1', 'suj2', 'suj3', 'suj4', 'suj6', 'suje', 'suj9', 'suj5', 'suj7', 'suj7', 'suj9', 'suji', 'sujo', 'suju', 'suj#', 'suj@', 'suj*', 'suj(', 'suj)', 'suj%', 'suj&', 'suma', 'sum1', 'sum2', 'sum3', 'sum4', 'sum6', 'sume', 'sum9', 'sum5', 'sum7', 'sum7', 'sum9', 'sumi', 'sumo', 'sumu', 'sum#', 'sum@', 'sum*', 'sum(', 'sum)', 'sum%', 'sum&', 'susa', 'sus1', 'sus2', 'sus3', 'sus4', 'sus6', 'suse', 'sus9', 'sus5', 'sus7', 'sus7', 'sus9', 'susi', 'suso', 'susu', 'sus#', 'sus@', 'sus*', 'sus(', 'sus)', 'sus%', 'sus&', 's#ja', 's#j1', 's#j2', 's#j3', 's#j4', 's#j6', 's#je', 's#j9', 's#j5', 's#j7', 's#j7', 's#j9', 's#ji', 's#jo', 's#ju', 's#j#', 's#j@', 's#j*', 's#j(', 's#j)', 's#j%', 's#j&', 's#ma', 's#m1', 's#m2', 's#m3', 's#m4', 's#m6', 's#me', 's#m9', 's#m5', 's#m7', 's#m7', 's#m9', 's#mi', 's#mo', 's#mu', 's#m#', 's#m@', 's#m*', 's#m(', 's#m)', 's#m%', 's#m&', 's#sa', 's#s1', 's#s2', 's#s3', 's#s4', 's#s6', 's#se', 's#s9', 's#s5', 's#s7', 's#s7', 's#s9', 's#si', 's#so', 's#su', 's#s#', 's#s@', 's#s*', 's#s(', 's#s)', 's#s%', 's#s&', 's@ja', 's@j1', 's@j2', 's@j3', 's@j4', 's@j6', 's@je', 's@j9', 's@j5', 's@j7', 's@j7', 's@j9', 's@ji', 's@jo', 's@ju', 's@j#', 's@j@', 's@j*', 's@j(', 's@j)', 's@j%', 's@j&', 's@ma', 's@m1', 's@m2', 's@m3', 's@m4', 's@m6', 's@me', 's@m9', 's@m5', 's@m7', 's@m7', 's@m9', 's@mi', 's@mo', 's@mu', 's@m#', 's@m@', 's@m*', 's@m(', 's@m)', 's@m%', 's@m&', 's@sa', 's@s1', 's@s2', 's@s3', 's@s4', 's@s6', 's@se', 's@s9', 's@s5', 's@s7', 's@s7', 's@s9', 's@si', 's@so', 's@su', 's@s#', 's@s@', 's@s*', 's@s(', 's@s)', 's@s%', 's@s&', 's*ja', 's*j1', 's*j2', 's*j3', 's*j4', 's*j6', 's*je', 's*j9', 's*j5', 's*j7', 's*j7', 's*j9', 's*ji', 's*jo', 's*ju', 's*j#', 's*j@', 's*j*', 's*j(', 's*j)', 's*j%', 's*j&', 's*ma', 's*m1', 's*m2', 's*m3', 's*m4', 's*m6', 's*me', 's*m9', 's*m5', 's*m7', 's*m7', 's*m9', 's*mi', 's*mo', 's*mu', 's*m#', 's*m@', 's*m*', 's*m(', 's*m)', 's*m%', 's*m&', 's*sa', 's*s1', 's*s2', 's*s3', 's*s4', 's*s6', 's*se', 's*s9', 's*s5', 's*s7', 's*s7', 's*s9', 's*si', 's*so', 's*su', 's*s#', 's*s@', 's*s*', 's*s(', 's*s)', 's*s%', 's*s&', 's(ja', 's(j1', 's(j2', 's(j3', 's(j4', 's(j6', 's(je', 's(j9', 's(j5', 's(j7', 's(j7', 's(j9', 's(ji', 's(jo', 's(ju', 's(j#', 's(j@', 's(j*', 's(j(', 's(j)', 's(j%', 's(j&', 's(ma', 's(m1', 's(m2', 's(m3', 's(m4', 's(m6', 's(me', 's(m9', 's(m5', 's(m7', 's(m7', 's(m9', 's(mi', 's(mo', 's(mu', 's(m#', 's(m@', 's(m*', 's(m(', 's(m)', 's(m%', 's(m&', 's(sa', 's(s1', 's(s2', 's(s3', 's(s4', 's(s6', 's(se', 's(s9', 's(s5', 's(s7', 's(s7', 's(s9', 's(si', 's(so', 's(su', 's(s#', 's(s@', 's(s*', 's(s(', 's(s)', 's(s%', 's(s&', 's)ja', 's)j1', 's)j2', 's)j3', 's)j4', 's)j6', 's)je', 's)j9', 's)j5', 's)j7', 's)j7', 's)j9', 's)ji', 's)jo', 's)ju', 's)j#', 's)j@', 's)j*', 's)j(', 's)j)', 's)j%', 's)j&', 's)ma', 's)m1', 's)m2', 's)m3', 's)m4', 's)m6', 's)me', 's)m9', 's)m5', 's)m7', 's)m7', 's)m9', 's)mi', 's)mo', 's)mu', 's)m#', 's)m@', 's)m*', 's)m(', 's)m)', 's)m%', 's)m&', 's)sa', 's)s1', 's)s2', 's)s3', 's)s4', 's)s6', 's)se', 's)s9', 's)s5', 's)s7', 's)s7', 's)s9', 's)si', 's)so', 's)su', 's)s#', 's)s@', 's)s*', 's)s(', 's)s)', 's)s%', 's)s&', 's%ja', 's%j1', 's%j2', 's%j3', 's%j4', 's%j6', 's%je', 's%j9', 's%j5', 's%j7', 's%j7', 's%j9', 's%ji', 's%jo', 's%ju', 's%j#', 's%j@', 's%j*', 's%j(', 's%j)', 's%j%', 's%j&', 's%ma', 's%m1', 's%m2', 's%m3', 's%m4', 's%m6', 's%me', 's%m9', 's%m5', 's%m7', 's%m7', 's%m9', 's%mi', 's%mo', 's%mu', 's%m#', 's%m@', 's%m*', 's%m(', 's%m)', 's%m%', 's%m&', 's%sa', 's%s1', 's%s2', 's%s3', 's%s4', 's%s6', 's%se', 's%s9', 's%s5', 's%s7', 's%s7', 's%s9', 's%si', 's%so', 's%su', 's%s#', 's%s@', 's%s*', 's%s(', 's%s)', 's%s%', 's%s&', 's&ja', 's&j1', 's&j2', 's&j3', 's&j4', 's&j6', 's&je', 's&j9', 's&j5', 's&j7', 's&j7', 's&j9', 's&ji', 's&jo', 's&ju', 's&j#', 's&j@', 's&j*', 's&j(', 's&j)', 's&j%', 's&j&', 's&ma', 's&m1', 's&m2', 's&m3', 's&m4', 's&m6', 's&me', 's&m9', 's&m5', 's&m7', 's&m7', 's&m9', 's&mi', 's&mo', 's&mu', 's&m#', 's&m@', 's&m*', 's&m(', 's&m)', 's&m%', 's&m&', 's&sa', 's&s1', 's&s2', 's&s3', 's&s4', 's&s6', 's&se', 's&s9', 's&s5', 's&s7', 's&s7', 's&s9', 's&si', 's&so', 's&su', 's&s#', 's&s@', 's&s*', 's&s(', 's&s)', 's&s%', 's&s&']\n"
          ]
        }
      ]
    }
  ]
}